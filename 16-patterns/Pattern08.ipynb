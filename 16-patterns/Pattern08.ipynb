{
 "cells": [
  {
   "cell_type": "markdown",
   "metadata": {},
   "source": [
    "# Tree Depth First Search\n",
    "\n",
    "This pattern is based on the Depth First Search (DFS) technique to traverse a tree.\n",
    "\n",
    "We will be using **recursion** (or we can also use a stack for the iterative approach) to keep track of all the previous (parent) nodes while traversing. This also means that the space complexity of the algorithm will be O(H), where ‘H’ is the maximum height of the tree."
   ]
  },
  {
   "cell_type": "code",
   "execution_count": 1,
   "metadata": {},
   "outputs": [],
   "source": [
    "from collections import deque\n",
    "\n",
    "class Node:\n",
    "    def __init__(self, val):\n",
    "        self.val = val\n",
    "        self.left = None\n",
    "        self.right = None"
   ]
  },
  {
   "cell_type": "markdown",
   "metadata": {},
   "source": [
    "## Binary Tree Path Sum (easy)\n",
    "\n",
    "Given a binary tree and a number ‘S’, find if the tree has a path from root-to-leaf such that the sum of all the node values of that path equals ‘S’.\n"
   ]
  },
  {
   "cell_type": "code",
   "execution_count": 2,
   "metadata": {},
   "outputs": [],
   "source": [
    "def find_path(root, s):\n",
    "\n",
    "    if not root:\n",
    "        return 0\n",
    "    \n",
    "    stack = []\n",
    "    stack.append([root, root.val])\n",
    "    path = []\n",
    "    \n",
    "    while stack:\n",
    "        current = stack.pop()\n",
    "            \n",
    "        if current[0].left:\n",
    "            stack.append([current[0].left, current[0].left.val+current[1]])\n",
    "            \n",
    "        if current[0].right:\n",
    "            stack.append([current[0].right, current[0].right.val+current[1]])\n",
    "            \n",
    "        if not current[0].left and not current[0].right:\n",
    "            path.append(current[1])\n",
    "        \n",
    "    \n",
    "    return s in path"
   ]
  },
  {
   "cell_type": "code",
   "execution_count": 3,
   "metadata": {},
   "outputs": [
    {
     "name": "stdout",
     "output_type": "stream",
     "text": [
      "True\n",
      "False\n"
     ]
    }
   ],
   "source": [
    "root = Node(12)\n",
    "root.left = Node(7)\n",
    "root.right = Node(1)\n",
    "root.left.left = Node(9)\n",
    "root.right.left = Node(10)\n",
    "root.right.right = Node(5)\n",
    "print(find_path(root, 23))\n",
    "print(find_path(root, 16))"
   ]
  },
  {
   "cell_type": "markdown",
   "metadata": {},
   "source": [
    "## All Paths for a Sum (medium)\n",
    "\n",
    "Given a binary tree and a number ‘S’, find all paths from root-to-leaf such that the sum of all the node values of each path equals ‘S’.\n"
   ]
  },
  {
   "cell_type": "code",
   "execution_count": 4,
   "metadata": {},
   "outputs": [],
   "source": [
    "def find_path(root, s):\n",
    "\n",
    "    if not root:\n",
    "        return 0\n",
    "    \n",
    "    stack = []\n",
    "    stack.append([root, root.val])\n",
    "    path = []\n",
    "    \n",
    "    while stack:\n",
    "        current = stack.pop()\n",
    "            \n",
    "        if current[0].left:\n",
    "            stack.append([current[0].left, current[0].left.val+current[1]])\n",
    "            \n",
    "        if current[0].right:\n",
    "            stack.append([current[0].right, current[0].right.val+current[1]])\n",
    "            \n",
    "        if not current[0].left and not current[0].right:\n",
    "            path.append(current[1])\n",
    "        \n",
    "    \n",
    "    count = 0\n",
    "    for p in path:\n",
    "        if p == s:\n",
    "            count += 1\n",
    "    \n",
    "    return count"
   ]
  },
  {
   "cell_type": "code",
   "execution_count": 5,
   "metadata": {},
   "outputs": [
    {
     "name": "stdout",
     "output_type": "stream",
     "text": [
      "0\n"
     ]
    }
   ],
   "source": [
    "root = Node(12)\n",
    "root.left = Node(7)\n",
    "root.right = Node(1)\n",
    "root.left.left = Node(4)\n",
    "root.right.left = Node(10)\n",
    "root.right.right = Node(5)\n",
    "print(find_path(root, 1))"
   ]
  },
  {
   "cell_type": "markdown",
   "metadata": {},
   "source": [
    "## Sum of Path Numbers (medium)\n",
    "\n",
    "Given a binary tree where each node can only have a digit (0-9) value, each root-to-leaf path will represent a number. Find the total sum of all the numbers represented by all paths."
   ]
  },
  {
   "cell_type": "code",
   "execution_count": 6,
   "metadata": {},
   "outputs": [],
   "source": [
    "def find_path(root):\n",
    "\n",
    "    if not root:\n",
    "        return 0\n",
    "    \n",
    "    stack = []\n",
    "    stack.append([root, str(root.val)])\n",
    "    path = []\n",
    "    \n",
    "    while stack:\n",
    "        current = stack.pop()\n",
    "            \n",
    "        if current[0].left:\n",
    "            stack.append([current[0].left, current[1] + str(current[0].left.val)])\n",
    "            \n",
    "        if current[0].right:\n",
    "            stack.append([current[0].right, current[1] + str(current[0].right.val)])\n",
    "            \n",
    "        if not current[0].left and not current[0].right:\n",
    "            path.append(int(current[1]))\n",
    "    \n",
    "    return sum(path)"
   ]
  },
  {
   "cell_type": "code",
   "execution_count": 7,
   "metadata": {},
   "outputs": [
    {
     "name": "stdout",
     "output_type": "stream",
     "text": [
      "332\n"
     ]
    }
   ],
   "source": [
    "root = Node(1)\n",
    "root.left = Node(0)\n",
    "root.right = Node(1)\n",
    "root.left.left = Node(1)\n",
    "root.right.left = Node(6)\n",
    "root.right.right = Node(5)\n",
    "print(find_path(root))"
   ]
  },
  {
   "cell_type": "markdown",
   "metadata": {},
   "source": [
    "## Path With Given Sequence (medium)\n",
    "\n",
    "Given a binary tree and a number sequence, find if the sequence is present as a root-to-leaf path in the given tree.\n"
   ]
  },
  {
   "cell_type": "markdown",
   "metadata": {},
   "source": [
    "### Recursive"
   ]
  },
  {
   "cell_type": "markdown",
   "metadata": {},
   "source": [
    "## Count Paths for a Sum (medium)\n",
    "\n",
    "Given a binary tree and a number ‘S’, find all paths in the tree such that the sum of all the node values of each path equals ‘S’. **Please note that the paths can start or end at any node** but all paths must follow direction from parent to child (top to bottom)."
   ]
  },
  {
   "cell_type": "markdown",
   "metadata": {},
   "source": [
    "### Recursive"
   ]
  },
  {
   "cell_type": "markdown",
   "metadata": {},
   "source": [
    "## Tree Diameter (medium)\n",
    "\n",
    "Given a binary tree, find the length of its diameter. The diameter of a tree is the number of nodes on the longest path between any two leaf nodes. The diameter of a tree may or may not pass through the root.\n",
    "\n",
    "Note: You can always assume that there are at least two leaf nodes in the given tree."
   ]
  },
  {
   "cell_type": "code",
   "execution_count": 65,
   "metadata": {},
   "outputs": [],
   "source": [
    "class Node:    \n",
    "    def __init__(self, val):\n",
    "        self.val = val\n",
    "        self.leftNode = None\n",
    "        self.rightNode = None\n",
    "        \n",
    "    \n",
    "    @property\n",
    "    def height(self):\n",
    "        left_height = 0\n",
    "        right_height = 0\n",
    "        if self.leftNode is None:\n",
    "            left_height = 0\n",
    "        else:\n",
    "            left_height = self.leftNode.height\n",
    "            \n",
    "        if self.rightNode is None:\n",
    "            right_height = 0\n",
    "        else:\n",
    "            right_height = self.rightNode.height\n",
    "                \n",
    "        return max(left_height, right_height) + 1\n",
    "    \n",
    "    @property\n",
    "    def diameter(self):\n",
    "        if self.rightNode is None:\n",
    "            return None\n",
    "        if self.leftNode is None:\n",
    "            return None\n",
    "        return self.leftNode.height + self.rightNode.height + 1\n",
    "\n",
    "def find_max_diameter(node):\n",
    "    \n",
    "    stack = [node]\n",
    "    max_diameter = 0\n",
    "    \n",
    "    while stack:\n",
    "        \n",
    "        curNode = stack.pop()\n",
    "        \n",
    "        if curNode.leftNode and curNode.leftNode.diameter:\n",
    "            stack.append(curNode.leftNode)\n",
    "        \n",
    "        if curNode.rightNode and curNode.rightNode.diameter:\n",
    "            stack.append(curNode.rightNode)\n",
    "        \n",
    "        max_diameter = max(max_diameter, curNode.diameter)\n",
    "    \n",
    "    return max_diameter\n",
    "    "
   ]
  },
  {
   "cell_type": "code",
   "execution_count": 66,
   "metadata": {},
   "outputs": [],
   "source": [
    "root = Node(1)\n",
    "root.leftNode = Node(2)\n",
    "root.rightNode = Node(3)\n",
    "root.leftNode.leftNode = Node(4)\n",
    "root.rightNode.leftNode = Node(5)\n",
    "root.rightNode.rightNode = Node(6)"
   ]
  },
  {
   "cell_type": "code",
   "execution_count": 67,
   "metadata": {},
   "outputs": [
    {
     "data": {
      "text/plain": [
       "5"
      ]
     },
     "execution_count": 67,
     "metadata": {},
     "output_type": "execute_result"
    }
   ],
   "source": [
    "find_max_diameter(root)"
   ]
  },
  {
   "cell_type": "code",
   "execution_count": 68,
   "metadata": {},
   "outputs": [],
   "source": [
    "root = Node(1)\n",
    "root.leftNode = Node(2)\n",
    "root.rightNode = Node(3)\n",
    "root.leftNode.leftNode = Node(4)\n",
    "root.rightNode.leftNode = Node(5)\n",
    "root.rightNode.rightNode = Node(6)\n",
    "root.leftNode.leftNode = None\n",
    "root.rightNode.leftNode.leftNode = Node(7)\n",
    "root.rightNode.leftNode.rightNode = Node(8)\n",
    "root.rightNode.rightNode.leftNode = Node(9)\n",
    "root.rightNode.leftNode.rightNode.leftNode = Node(10)\n",
    "root.rightNode.rightNode.leftNode.leftNode = Node(11)\n"
   ]
  },
  {
   "cell_type": "code",
   "execution_count": 69,
   "metadata": {},
   "outputs": [
    {
     "data": {
      "text/plain": [
       "7"
      ]
     },
     "execution_count": 69,
     "metadata": {},
     "output_type": "execute_result"
    }
   ],
   "source": [
    "find_max_diameter(root)"
   ]
  },
  {
   "cell_type": "markdown",
   "metadata": {},
   "source": [
    "## Path with Maximum Sum (hard)\n",
    "\n",
    "Find the path with the maximum sum in a given binary tree. Write a function that returns the maximum sum.\n",
    "\n",
    "A path can be defined as a sequence of nodes between any two nodes and doesn’t necessarily pass through the root. The path must contain at least one node."
   ]
  },
  {
   "cell_type": "code",
   "execution_count": null,
   "metadata": {},
   "outputs": [],
   "source": []
  }
 ],
 "metadata": {
  "kernelspec": {
   "display_name": "Python 3",
   "language": "python",
   "name": "python3"
  },
  "language_info": {
   "codemirror_mode": {
    "name": "ipython",
    "version": 3
   },
   "file_extension": ".py",
   "mimetype": "text/x-python",
   "name": "python",
   "nbconvert_exporter": "python",
   "pygments_lexer": "ipython3",
   "version": "3.8.5"
  }
 },
 "nbformat": 4,
 "nbformat_minor": 4
}
