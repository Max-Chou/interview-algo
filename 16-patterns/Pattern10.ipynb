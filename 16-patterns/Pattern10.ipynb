{
 "cells": [
  {
   "cell_type": "markdown",
   "metadata": {},
   "source": [
    "# Subsets\n",
    "\n",
    "A huge number of coding interview problems involve dealing with Permutations and Combinations of a given set of elements. This pattern describes an efficient Breadth First Search (BFS) approach to handle all these problems."
   ]
  },
  {
   "cell_type": "markdown",
   "metadata": {},
   "source": [
    "## Subsets (easy)\n",
    "\n",
    "Given a set with distinct elements, find all of its distinct subsets.\n",
    "\n"
   ]
  },
  {
   "cell_type": "code",
   "execution_count": 1,
   "metadata": {},
   "outputs": [],
   "source": [
    "def solution(nums):\n",
    "    n = len(nums)\n",
    "    \n",
    "    queue = []\n",
    "    queue.append([[],nums])\n",
    "    \n",
    "    ans = []\n",
    "    while queue:\n",
    "        \n",
    "        current = queue.pop(0)\n",
    "        if current[0] not in ans:\n",
    "            ans.append(current[0])\n",
    "        \n",
    "        for i in range(len(current[1])):\n",
    "            elem1 = current[0].copy()\n",
    "            elem2 = current[1].copy()\n",
    "            \n",
    "            elem1.append(elem2.pop(i))\n",
    "            elem1.sort()\n",
    "            \n",
    "            queue.append([elem1, elem2])\n",
    "    \n",
    "    return ans\n",
    "    \n",
    "            \n",
    "        "
   ]
  },
  {
   "cell_type": "code",
   "execution_count": 2,
   "metadata": {},
   "outputs": [],
   "source": [
    "def solution(nums):\n",
    "    subsets = []\n",
    "    \n",
    "    subsets.append([])\n",
    "    \n",
    "    for num in nums:\n",
    "        n = len(subsets)\n",
    "        for i in range(n):\n",
    "            s = list(subsets[i])\n",
    "            s.append(num)\n",
    "            subsets.append(s)\n",
    "    \n",
    "    return subsets\n",
    "    "
   ]
  },
  {
   "cell_type": "markdown",
   "metadata": {},
   "source": [
    "### Recursive"
   ]
  },
  {
   "cell_type": "code",
   "execution_count": 10,
   "metadata": {},
   "outputs": [],
   "source": [
    "def find_subset(nums):\n",
    "    \n",
    "    subsets = []\n",
    "    n = len(nums)\n",
    "    if n == 1:\n",
    "        return [[], nums]\n",
    "    \n",
    "\n",
    "    num = nums[0]\n",
    "        \n",
    "    rest = nums[:0] + nums[1:]\n",
    "    for subset in find_subset(rest):\n",
    "        subsets.append(subset)\n",
    "        a = list(subset)\n",
    "        a.append(num)\n",
    "        subsets.append(a)\n",
    "    \n",
    "    return subsets\n",
    "    "
   ]
  },
  {
   "cell_type": "code",
   "execution_count": 11,
   "metadata": {},
   "outputs": [
    {
     "data": {
      "text/plain": [
       "[[], [1], [5], [5, 1], [3], [3, 1], [3, 5], [3, 5, 1]]"
      ]
     },
     "execution_count": 11,
     "metadata": {},
     "output_type": "execute_result"
    }
   ],
   "source": [
    "nums = [1, 5, 3]\n",
    "find_subset(nums)"
   ]
  },
  {
   "cell_type": "markdown",
   "metadata": {},
   "source": [
    "## Subsets With Duplicates (easy)"
   ]
  },
  {
   "cell_type": "code",
   "execution_count": 1,
   "metadata": {},
   "outputs": [],
   "source": [
    "def find_subsets(nums):\n",
    "    subsets = [[]]\n",
    "\n",
    "    nums.sort()\n",
    "    for num in nums:\n",
    "        n = len(subsets)\n",
    "        for i in range(n):\n",
    "            a = list(subsets[i])\n",
    "            a.append(num)\n",
    "            if a not in subsets:\n",
    "                subsets.append(a)\n",
    "\n",
    "    return subsets"
   ]
  },
  {
   "cell_type": "code",
   "execution_count": 3,
   "metadata": {},
   "outputs": [
    {
     "name": "stdout",
     "output_type": "stream",
     "text": [
      "[[], [1], [3], [1, 3], [3, 3], [1, 3, 3]]\n",
      "[[], [1], [3], [1, 3], [3, 3], [1, 3, 3], [5], [1, 5], [3, 5], [1, 3, 5], [3, 3, 5], [1, 3, 3, 5]]\n"
     ]
    }
   ],
   "source": [
    "tests = [[1,3, 3], [1, 5, 3, 3]]\n",
    "\n",
    "for test in tests:\n",
    "    print(find_subsets(test))\n"
   ]
  },
  {
   "cell_type": "markdown",
   "metadata": {},
   "source": [
    "## Permutations (medium)\n",
    "\n",
    "Given a set of distinct numbers, find all of its permutations.\n",
    "\n"
   ]
  },
  {
   "cell_type": "code",
   "execution_count": 4,
   "metadata": {},
   "outputs": [],
   "source": [
    "def permutations(nums):\n",
    "    \n",
    "    n = len(nums)\n",
    "    ans = []\n",
    "    \n",
    "    if n == 1:\n",
    "        return [nums]\n",
    "    \n",
    "    for i in range(n):\n",
    "        a = nums[i]\n",
    "        rest = nums[:i] + nums[i+1:]\n",
    "        \n",
    "        for c in permutations(rest):\n",
    "            ans.append([a]+c)\n",
    "    \n",
    "    return ans\n",
    "        \n",
    "    "
   ]
  },
  {
   "cell_type": "code",
   "execution_count": 5,
   "metadata": {
    "scrolled": true
   },
   "outputs": [
    {
     "data": {
      "text/plain": [
       "[[1, 2, 3, 4],\n",
       " [1, 2, 4, 3],\n",
       " [1, 3, 2, 4],\n",
       " [1, 3, 4, 2],\n",
       " [1, 4, 2, 3],\n",
       " [1, 4, 3, 2],\n",
       " [2, 1, 3, 4],\n",
       " [2, 1, 4, 3],\n",
       " [2, 3, 1, 4],\n",
       " [2, 3, 4, 1],\n",
       " [2, 4, 1, 3],\n",
       " [2, 4, 3, 1],\n",
       " [3, 1, 2, 4],\n",
       " [3, 1, 4, 2],\n",
       " [3, 2, 1, 4],\n",
       " [3, 2, 4, 1],\n",
       " [3, 4, 1, 2],\n",
       " [3, 4, 2, 1],\n",
       " [4, 1, 2, 3],\n",
       " [4, 1, 3, 2],\n",
       " [4, 2, 1, 3],\n",
       " [4, 2, 3, 1],\n",
       " [4, 3, 1, 2],\n",
       " [4, 3, 2, 1]]"
      ]
     },
     "execution_count": 5,
     "metadata": {},
     "output_type": "execute_result"
    }
   ],
   "source": [
    "nums = [1,2, 3,4]\n",
    "permutations(nums)"
   ]
  },
  {
   "cell_type": "code",
   "execution_count": 15,
   "metadata": {},
   "outputs": [],
   "source": [
    "from collections import deque\n",
    "\n",
    "def find_permutations(nums):\n",
    "    result = []\n",
    "    \n",
    "    permutations = deque()\n",
    "    permutations.append([])\n",
    "    \n",
    "    for num in nums:\n",
    "        n = len(permutations)\n",
    "        for _ in range(n):\n",
    "            old = permutations.popleft()\n",
    "            # insert at every position\n",
    "            for j in range(len(old)+1):\n",
    "                new = list(old)\n",
    "                new.insert(j, num)\n",
    "            \n",
    "                # collect the results\n",
    "                if len(new) == len(nums):\n",
    "                    result.append(new)\n",
    "                else:\n",
    "                    permutations.append(new)\n",
    "    return result"
   ]
  },
  {
   "cell_type": "code",
   "execution_count": 16,
   "metadata": {},
   "outputs": [
    {
     "data": {
      "text/plain": [
       "[[5, 3, 1], [3, 5, 1], [3, 1, 5], [5, 1, 3], [1, 5, 3], [1, 3, 5]]"
      ]
     },
     "execution_count": 16,
     "metadata": {},
     "output_type": "execute_result"
    }
   ],
   "source": [
    "find_permutations([1, 3, 5])"
   ]
  },
  {
   "cell_type": "markdown",
   "metadata": {},
   "source": [
    "## String Permutations by changing case (medium)\n",
    "\n",
    "Given a string, find all of its permutations preserving the character sequence but changing case.\n",
    "\n",
    "\n"
   ]
  },
  {
   "cell_type": "code",
   "execution_count": 6,
   "metadata": {},
   "outputs": [],
   "source": [
    "def solution(string):\n",
    "    results = []\n",
    "    \n",
    "    results.append(string)\n",
    "    m = len(string)\n",
    "    for j in range(m):\n",
    "        if string[j].isalpha():\n",
    "            n = len(results)\n",
    "            for i in range(n):\n",
    "                chars = list(results[i])\n",
    "                chars[j] = chars[j].upper()\n",
    "                \n",
    "                results.append(\"\".join(chars))\n",
    "    \n",
    "    return results"
   ]
  },
  {
   "cell_type": "code",
   "execution_count": 7,
   "metadata": {},
   "outputs": [
    {
     "data": {
      "text/plain": [
       "['ad52', 'Ad52', 'aD52', 'AD52']"
      ]
     },
     "execution_count": 7,
     "metadata": {},
     "output_type": "execute_result"
    }
   ],
   "source": [
    "string = \"ad52\"\n",
    "solution(string)"
   ]
  },
  {
   "cell_type": "markdown",
   "metadata": {},
   "source": [
    "## Balanced Parentheses (hard)\n",
    "\n",
    "For a given number ‘N’, write a function to generate all combination of ‘N’ pairs of balanced parentheses."
   ]
  },
  {
   "cell_type": "code",
   "execution_count": 34,
   "metadata": {},
   "outputs": [],
   "source": [
    "def generate_valid_parentheses(num):\n",
    "    results = ['()']\n",
    "    \n",
    "    if num == 1:\n",
    "        return result\n",
    "    \n",
    "    for _ in range(num-1):\n",
    "        n = len(results)\n",
    "        for _ in range(n):\n",
    "            result = results.pop(0)\n",
    "            m = len(result)\n",
    "            for i in range(m+1):\n",
    "                chars = list(result)\n",
    "                chars.insert(i, ')')\n",
    "                chars.insert(i, '(')\n",
    "                \n",
    "                s = \"\".join(chars)\n",
    "                if s not in results:\n",
    "                    results.append(s)\n",
    "    \n",
    "    return results\n",
    "        \n",
    "    "
   ]
  },
  {
   "cell_type": "code",
   "execution_count": 39,
   "metadata": {},
   "outputs": [
    {
     "name": "stdout",
     "output_type": "stream",
     "text": [
      "14\n"
     ]
    }
   ],
   "source": [
    "print(len(generate_valid_parentheses(4)))"
   ]
  },
  {
   "cell_type": "markdown",
   "metadata": {},
   "source": [
    "## Evaluate Expression (hard)\n",
    "\n",
    "Given an expression containing digits and operations (+, -, *), find all possible ways in which the expression can be evaluated by grouping the numbers and operators using parentheses."
   ]
  },
  {
   "cell_type": "code",
   "execution_count": 40,
   "metadata": {},
   "outputs": [
    {
     "data": {
      "text/plain": [
       "6"
      ]
     },
     "execution_count": 40,
     "metadata": {},
     "output_type": "execute_result"
    }
   ],
   "source": [
    "eval(\"3+3\")"
   ]
  },
  {
   "cell_type": "code",
   "execution_count": 76,
   "metadata": {},
   "outputs": [],
   "source": [
    "class Expression:\n",
    "    def __init__(self, string):\n",
    "        self.string = string\n",
    "        self.ops = []\n",
    "        self.nums = []\n",
    "\n",
    "    def create(self):\n",
    "        chars = list(self.string)\n",
    "        op = \"\"\n",
    "        num = []\n",
    "        for c in self.string:\n",
    "            if c.isdigit():\n",
    "                num.append(c)\n",
    "      \n",
    "            if c in [\"+\", \"-\", \"*\", \"/\"]:\n",
    "                self.nums.append(int(\"\".join(num)))\n",
    "                self.ops.append(c)\n",
    "                num = []\n",
    "\n",
    "        self.nums.append(int(\"\".join(num)))\n",
    "    \n",
    "    def combine(self, idx):\n",
    "        \n",
    "        a = self.nums.pop(idx)\n",
    "        b = self.nums.pop(idx)\n",
    "        ops = self.ops.pop(idx)\n",
    "        c = eval(str(a)+ ops + str(b))\n",
    "        self.nums.insert(idx, c)\n",
    "        return self\n",
    "        \n",
    "        "
   ]
  },
  {
   "cell_type": "code",
   "execution_count": 77,
   "metadata": {},
   "outputs": [],
   "source": [
    "def diff_ways_to_evaluate_expression(string):\n",
    "    pass\n",
    "    \n",
    "    "
   ]
  },
  {
   "cell_type": "code",
   "execution_count": 82,
   "metadata": {},
   "outputs": [],
   "source": [
    "ex = Expression(\"2*3+4\")\n",
    "ex.create()"
   ]
  },
  {
   "cell_type": "code",
   "execution_count": 83,
   "metadata": {},
   "outputs": [
    {
     "data": {
      "text/plain": [
       "<__main__.Expression at 0x7fa042e57ca0>"
      ]
     },
     "execution_count": 83,
     "metadata": {},
     "output_type": "execute_result"
    }
   ],
   "source": [
    "ex.combine(1)"
   ]
  },
  {
   "cell_type": "code",
   "execution_count": 84,
   "metadata": {},
   "outputs": [
    {
     "data": {
      "text/plain": [
       "[2, 7]"
      ]
     },
     "execution_count": 84,
     "metadata": {},
     "output_type": "execute_result"
    }
   ],
   "source": [
    "ex.nums"
   ]
  },
  {
   "cell_type": "code",
   "execution_count": 85,
   "metadata": {},
   "outputs": [
    {
     "data": {
      "text/plain": [
       "['*']"
      ]
     },
     "execution_count": 85,
     "metadata": {},
     "output_type": "execute_result"
    }
   ],
   "source": [
    "ex.ops"
   ]
  },
  {
   "cell_type": "code",
   "execution_count": null,
   "metadata": {},
   "outputs": [],
   "source": []
  }
 ],
 "metadata": {
  "kernelspec": {
   "display_name": "Python 3",
   "language": "python",
   "name": "python3"
  },
  "language_info": {
   "codemirror_mode": {
    "name": "ipython",
    "version": 3
   },
   "file_extension": ".py",
   "mimetype": "text/x-python",
   "name": "python",
   "nbconvert_exporter": "python",
   "pygments_lexer": "ipython3",
   "version": "3.8.5"
  }
 },
 "nbformat": 4,
 "nbformat_minor": 4
}
