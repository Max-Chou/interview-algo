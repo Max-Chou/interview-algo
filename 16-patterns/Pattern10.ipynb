{
 "cells": [
  {
   "cell_type": "markdown",
   "metadata": {},
   "source": [
    "# Subsets\n",
    "\n",
    "A huge number of coding interview problems involve dealing with Permutations and Combinations of a given set of elements. This pattern describes an efficient **Breadth First Search (BFS) approach** to handle all these problems."
   ]
  },
  {
   "cell_type": "markdown",
   "metadata": {},
   "source": [
    "## Subsets (easy)\n",
    "\n",
    "Given a set with distinct elements, find all of its distinct subsets.\n",
    "\n"
   ]
  },
  {
   "cell_type": "code",
   "execution_count": 1,
   "metadata": {},
   "outputs": [],
   "source": [
    "def solution(nums):\n",
    "    subsets = []\n",
    "    subsets.append([])\n",
    "    \n",
    "    for num in nums:\n",
    "        n = len(subsets)\n",
    "        for i in range(n):\n",
    "            s = list(subsets[i])\n",
    "            s.append(num)\n",
    "            subsets.append(s)\n",
    "    \n",
    "    return subsets\n",
    "    "
   ]
  },
  {
   "cell_type": "markdown",
   "metadata": {},
   "source": [
    "### Recursive"
   ]
  },
  {
   "cell_type": "code",
   "execution_count": 10,
   "metadata": {},
   "outputs": [],
   "source": [
    "def find_subset(nums):\n",
    "    \n",
    "    subsets = []\n",
    "    n = len(nums)\n",
    "    if n == 1:\n",
    "        return [[], nums]\n",
    "    \n",
    "\n",
    "    num = nums[0]\n",
    "        \n",
    "    rest = nums[:0] + nums[1:]\n",
    "    for subset in find_subset(rest):\n",
    "        subsets.append(subset)\n",
    "        a = list(subset)\n",
    "        a.append(num)\n",
    "        subsets.append(a)\n",
    "    \n",
    "    return subsets\n",
    "    "
   ]
  },
  {
   "cell_type": "code",
   "execution_count": 2,
   "metadata": {},
   "outputs": [
    {
     "data": {
      "text/plain": [
       "[[], [1], [5], [1, 5], [3], [1, 3], [5, 3], [1, 5, 3]]"
      ]
     },
     "execution_count": 2,
     "metadata": {},
     "output_type": "execute_result"
    }
   ],
   "source": [
    "nums = [1, 5, 3]\n",
    "solution(nums)"
   ]
  },
  {
   "cell_type": "markdown",
   "metadata": {},
   "source": [
    "## Subsets With Duplicates (easy)"
   ]
  },
  {
   "cell_type": "code",
   "execution_count": 1,
   "metadata": {},
   "outputs": [],
   "source": [
    "def find_subsets(nums):\n",
    "    subsets = [[]]\n",
    "\n",
    "    nums.sort()\n",
    "    for num in nums:\n",
    "        n = len(subsets)\n",
    "        for i in range(n):\n",
    "            a = list(subsets[i])\n",
    "            a.append(num)\n",
    "            if a not in subsets:\n",
    "                subsets.append(a)\n",
    "\n",
    "    return subsets"
   ]
  },
  {
   "cell_type": "code",
   "execution_count": 3,
   "metadata": {},
   "outputs": [
    {
     "name": "stdout",
     "output_type": "stream",
     "text": [
      "[[], [1], [3], [1, 3], [3, 3], [1, 3, 3]]\n",
      "[[], [1], [3], [1, 3], [3, 3], [1, 3, 3], [5], [1, 5], [3, 5], [1, 3, 5], [3, 3, 5], [1, 3, 3, 5]]\n"
     ]
    }
   ],
   "source": [
    "tests = [[1,3, 3], [1, 5, 3, 3]]\n",
    "\n",
    "for test in tests:\n",
    "    print(find_subsets(test))\n"
   ]
  },
  {
   "cell_type": "markdown",
   "metadata": {},
   "source": [
    "## Permutations (medium)\n",
    "\n",
    "Given a set of distinct numbers, find all of its permutations.\n",
    "\n"
   ]
  },
  {
   "cell_type": "code",
   "execution_count": 1,
   "metadata": {},
   "outputs": [],
   "source": [
    "def permutations(nums):\n",
    "    n = len(nums)\n",
    "    \n",
    "    if n == 1:\n",
    "        return [nums]\n",
    "    \n",
    "    results = []\n",
    "    \n",
    "    for i in range(n):\n",
    "        num = nums[i]\n",
    "        rest = nums[:i] + nums[i+1:]\n",
    "        \n",
    "        for perm in permutations(rest):\n",
    "            results.append([num] + perm)\n",
    "    \n",
    "    return results\n",
    "        \n",
    "    "
   ]
  },
  {
   "cell_type": "code",
   "execution_count": 3,
   "metadata": {
    "scrolled": true
   },
   "outputs": [
    {
     "data": {
      "text/plain": [
       "[[1, 2, 3], [1, 3, 2], [2, 1, 3], [2, 3, 1], [3, 1, 2], [3, 2, 1]]"
      ]
     },
     "execution_count": 3,
     "metadata": {},
     "output_type": "execute_result"
    }
   ],
   "source": [
    "nums = [1,2, 3]\n",
    "permutations(nums)"
   ]
  },
  {
   "cell_type": "code",
   "execution_count": 9,
   "metadata": {},
   "outputs": [],
   "source": [
    "from collections import deque\n",
    "\n",
    "def find_permutations(nums):    \n",
    "    permutations = deque()\n",
    "    permutations.append([])\n",
    "    \n",
    "    for num in nums:\n",
    "        n = len(permutations)\n",
    "        for _ in range(n):\n",
    "            old = permutations.popleft()\n",
    "            # insert at every position\n",
    "            for j in range(len(old)+1):\n",
    "                new = list(old)\n",
    "                new.insert(j, num)\n",
    "                permutations.append(new)\n",
    "    return list(permutations)"
   ]
  },
  {
   "cell_type": "code",
   "execution_count": 10,
   "metadata": {},
   "outputs": [
    {
     "data": {
      "text/plain": [
       "[[5, 3, 1], [3, 5, 1], [3, 1, 5], [5, 1, 3], [1, 5, 3], [1, 3, 5]]"
      ]
     },
     "execution_count": 10,
     "metadata": {},
     "output_type": "execute_result"
    }
   ],
   "source": [
    "find_permutations([1, 3, 5])"
   ]
  },
  {
   "cell_type": "markdown",
   "metadata": {},
   "source": [
    "## String Permutations by changing case (medium)\n",
    "\n",
    "Given a string, find all of its permutations preserving the character sequence but changing case.\n",
    "\n",
    "\n"
   ]
  },
  {
   "cell_type": "code",
   "execution_count": 11,
   "metadata": {},
   "outputs": [],
   "source": [
    "def solution(string):\n",
    "    results = []\n",
    "    results.append(string)\n",
    "    \n",
    "    n = len(string)\n",
    "    for i in range(n):\n",
    "        if string[i].isalpha():\n",
    "            m = len(results)\n",
    "            for j in range(m):\n",
    "                new = string[:i] + string[i].upper() + string[i+1:]\n",
    "                results.append(new)\n",
    "    \n",
    "    return results"
   ]
  },
  {
   "cell_type": "code",
   "execution_count": 14,
   "metadata": {},
   "outputs": [
    {
     "data": {
      "text/plain": [
       "4096"
      ]
     },
     "execution_count": 14,
     "metadata": {},
     "output_type": "execute_result"
    }
   ],
   "source": [
    "string = \"ad5dfdsdfdsfs2\"\n",
    "len(solution(string))"
   ]
  },
  {
   "cell_type": "markdown",
   "metadata": {},
   "source": [
    "## Balanced Parentheses (hard)\n",
    "\n",
    "For a given number ‘N’, write a function to generate all combination of ‘N’ pairs of balanced parentheses."
   ]
  },
  {
   "cell_type": "code",
   "execution_count": 21,
   "metadata": {},
   "outputs": [],
   "source": [
    "from collections import deque\n",
    "\n",
    "def generate_valid_parentheses(num):\n",
    "    results = deque()\n",
    "    results.append('()')\n",
    "    \n",
    "    if num == 1:\n",
    "        return results\n",
    "    \n",
    "    \n",
    "    for _ in range(num-1):\n",
    "        n = len(results)\n",
    "        for _ in range(n):\n",
    "            elem = results.popleft()\n",
    "            for i in range(len(elem)+1):\n",
    "                new = elem[:i] + '()' + elem[i:]\n",
    "                if new not in results:\n",
    "                    results.append(new)\n",
    "    return results\n",
    "\n",
    "        \n",
    "    "
   ]
  },
  {
   "cell_type": "code",
   "execution_count": 23,
   "metadata": {
    "scrolled": true
   },
   "outputs": [
    {
     "data": {
      "text/plain": [
       "14"
      ]
     },
     "execution_count": 23,
     "metadata": {},
     "output_type": "execute_result"
    }
   ],
   "source": [
    "len(generate_valid_parentheses(4))"
   ]
  },
  {
   "cell_type": "markdown",
   "metadata": {},
   "source": [
    "## Unique Generalized Abbreviations (hard)\n",
    "\n",
    "Given a word, write a function to generate all of its unique generalized abbreviations.\n",
    "\n",
    "Generalized abbreviation of a word can be generated by replacing each substring of the word by the count of characters in the substring. Take the example of “ab” which has four substrings: “”, “a”, “b”, and “ab”. After replacing these substrings in the actual word by the count of characters we get all the generalized abbreviations: “ab”, “1b”, “a1”, and “2”.\n"
   ]
  },
  {
   "cell_type": "code",
   "execution_count": 71,
   "metadata": {},
   "outputs": [],
   "source": [
    "def generate_generalized_abbreviation(word):\n",
    "    \n",
    "    # step 1: replace the word with '_'\n",
    "    results = []\n",
    "    results.append(word)\n",
    "    n = len(word)\n",
    "    for i in range(n):\n",
    "        m = len(results)\n",
    "        for j in range(m):            \n",
    "            new = results[j][:i] + '_' + results[j][i+1:]\n",
    "            results.append(new)\n",
    "    \n",
    "    \n",
    "    # step 2: replace the '_' with numbers\n",
    "    n = len(results)\n",
    "    for j in range(n):\n",
    "        count = 0\n",
    "        m = len(results[j])\n",
    "        word = ''\n",
    "        for i in range(m):\n",
    "            if results[j][i] == '_':\n",
    "                count += 1\n",
    "            else:\n",
    "                if count != 0:\n",
    "                    word += str(count) + results[j][i]\n",
    "                    count = 0\n",
    "                else:\n",
    "                    word += results[j][i]\n",
    "        \n",
    "        if count != 0:\n",
    "            word += str(count)\n",
    "        \n",
    "        \n",
    "        results[j] = word\n",
    "    \n",
    "    return results\n",
    "    \n",
    "    "
   ]
  },
  {
   "cell_type": "code",
   "execution_count": 72,
   "metadata": {},
   "outputs": [
    {
     "data": {
      "text/plain": [
       "['code',\n",
       " '1ode',\n",
       " 'c1de',\n",
       " '2de',\n",
       " 'co1e',\n",
       " '1o1e',\n",
       " 'c2e',\n",
       " '3e',\n",
       " 'cod1',\n",
       " '1od1',\n",
       " 'c1d1',\n",
       " '2d1',\n",
       " 'co2',\n",
       " '1o2',\n",
       " 'c3',\n",
       " '4']"
      ]
     },
     "execution_count": 72,
     "metadata": {},
     "output_type": "execute_result"
    }
   ],
   "source": [
    "generate_generalized_abbreviation('code')"
   ]
  },
  {
   "cell_type": "markdown",
   "metadata": {},
   "source": [
    "## Evaluate Expression (hard)\n",
    "\n",
    "Given an expression containing digits and operations (+, -, *), find all possible ways in which the expression can be evaluated by grouping the numbers and operators using parentheses."
   ]
  },
  {
   "cell_type": "code",
   "execution_count": 250,
   "metadata": {},
   "outputs": [],
   "source": [
    "def evaluate(expr, idx):\n",
    "    \n",
    "    if len(expr) == 3:\n",
    "        yield eval(\"\".join(expr))\n",
    "        return\n",
    "    \n",
    "    if idx >= len(expr):\n",
    "        yield eval(\"\".join(expr))\n",
    "        return\n",
    "    \n",
    "    expr1 = list(expr)\n",
    "    for value in evaluate(expr1, idx+2):\n",
    "        yield value\n",
    "        \n",
    "    num = eval(\"\".join(expr[idx-1:idx+2]))\n",
    "    expr2 = expr[:idx-1] + [str(num)] + expr[idx+2:]\n",
    "    for value in evaluate(expr2, 1):\n",
    "        yield value\n",
    "\n",
    "    \n",
    "\n",
    "def diff_ways_to_evaluate_expression(string):\n",
    "    \n",
    "    expr = parse(string)\n",
    "    \n",
    "    return set(evaluate(expr, 1))\n",
    "    \n",
    "    "
   ]
  },
  {
   "cell_type": "code",
   "execution_count": 248,
   "metadata": {},
   "outputs": [],
   "source": [
    "a = set(evaluate([\"2\", \"*\", \"3\", \"-\", \"4\", \"-\", \"5\"], 1))"
   ]
  },
  {
   "cell_type": "code",
   "execution_count": 249,
   "metadata": {},
   "outputs": [
    {
     "data": {
      "text/plain": [
       "{-12, -7, -3, 7, 8}"
      ]
     },
     "execution_count": 249,
     "metadata": {},
     "output_type": "execute_result"
    }
   ],
   "source": [
    "a"
   ]
  },
  {
   "cell_type": "code",
   "execution_count": null,
   "metadata": {},
   "outputs": [],
   "source": []
  }
 ],
 "metadata": {
  "kernelspec": {
   "display_name": "Python 3",
   "language": "python",
   "name": "python3"
  },
  "language_info": {
   "codemirror_mode": {
    "name": "ipython",
    "version": 3
   },
   "file_extension": ".py",
   "mimetype": "text/x-python",
   "name": "python",
   "nbconvert_exporter": "python",
   "pygments_lexer": "ipython3",
   "version": "3.8.5"
  }
 },
 "nbformat": 4,
 "nbformat_minor": 4
}
