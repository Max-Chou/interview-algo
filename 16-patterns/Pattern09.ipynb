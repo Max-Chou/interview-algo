{
 "cells": [
  {
   "cell_type": "markdown",
   "metadata": {},
   "source": [
    "# Two Heap\n",
    "\n",
    "In many problems, where we are given a set of elements such that we can divide them into two parts. To solve the problem, we are interested in knowing the smallest element in one part and the biggest element in the other part. This pattern is an efficient approach to solve such problems.\n",
    "\n",
    "This pattern uses two Heaps to solve these problems; A Min Heap to find the smallest element and a Max Heap to find the biggest element."
   ]
  },
  {
   "cell_type": "markdown",
   "metadata": {},
   "source": [
    "## Find the Median of a Number Stream (medium)\n",
    "\n",
    "Design a class to calculate the median of a number stream. The class should have the following two methods:\n",
    "\n",
    "1. insertNum(int num): stores the number in the class\n",
    "2. findMedian(): returns the median of all numbers inserted in the class\n",
    "\n",
    "\n",
    "If the count of numbers inserted in the class is even, the median will be the average of the middle two numbers."
   ]
  },
  {
   "cell_type": "markdown",
   "metadata": {},
   "source": [
    "###  Brute-Force Sorting O(NlogN) Find Median O(1)"
   ]
  },
  {
   "cell_type": "markdown",
   "metadata": {},
   "source": [
    "### Two Heap Insert O(logN) Find Median O(1)"
   ]
  },
  {
   "cell_type": "code",
   "execution_count": 7,
   "metadata": {},
   "outputs": [],
   "source": [
    "from heapq import *\n",
    "\n",
    "class Stream():\n",
    "    \n",
    "    maxHeap = []\n",
    "    minHeap = []\n",
    "    \n",
    "    def insert_num(self, num):\n",
    "        if not self.maxHeap or -self.maxHeap[0] >= num:\n",
    "            heappush(self.maxHeap, -num)\n",
    "        else:\n",
    "            heappush(self.minHeap, num)\n",
    "\n",
    "        if len(self.maxHeap) > len(self.minHeap) + 1:\n",
    "            heappush(self.minHeap, -heappop(self.maxHeap))\n",
    "        elif len(self.maxHeap) < len(self.minHeap):\n",
    "            heappush(self.maxHeap, -heappop(self.minHeap))\n",
    "            \n",
    "    def find_median(self):\n",
    "        if len(self.maxHeap) == len(self.minHeap):\n",
    "            return -self.maxHeap[0] / 2.0 + self.minHeap[0] / 2.0\n",
    "        \n",
    "        return -self.maxHeap[0]\n",
    "    "
   ]
  },
  {
   "cell_type": "code",
   "execution_count": 8,
   "metadata": {},
   "outputs": [
    {
     "data": {
      "text/plain": [
       "2.0"
      ]
     },
     "execution_count": 8,
     "metadata": {},
     "output_type": "execute_result"
    }
   ],
   "source": [
    "s = Stream()\n",
    "s.insert_num(3)\n",
    "s.insert_num(1)\n",
    "s.find_median()"
   ]
  },
  {
   "cell_type": "code",
   "execution_count": 9,
   "metadata": {},
   "outputs": [
    {
     "name": "stdout",
     "output_type": "stream",
     "text": [
      "2.0\n",
      "3\n",
      "3.0\n"
     ]
    }
   ],
   "source": [
    "stream = Stream()\n",
    "stream.insert_num(3)\n",
    "stream.insert_num(1)\n",
    "print(stream.find_median())\n",
    "stream.insert_num(5)\n",
    "print(stream.find_median())\n",
    "stream.insert_num(4)\n",
    "print(stream.find_median())"
   ]
  },
  {
   "cell_type": "markdown",
   "metadata": {},
   "source": [
    "## Sliding Window Median (hard)\n",
    "\n",
    "Given an array of numbers and a number ‘k’, find the median of all the ‘k’ sized sub-arrays (or windows) of the array."
   ]
  },
  {
   "cell_type": "markdown",
   "metadata": {},
   "source": [
    "### Sort O(KlogK) Total O(NKlogK)"
   ]
  },
  {
   "cell_type": "code",
   "execution_count": 4,
   "metadata": {},
   "outputs": [],
   "source": [
    "def solution(arr, k):\n",
    "    \n",
    "    result = []\n",
    "    n = len(arr)\n",
    "    \n",
    "    if k % 2 == 0:\n",
    "        is_odd = False\n",
    "    else:\n",
    "        is_odd = True\n",
    "    \n",
    "    for i in range(n-k+1):\n",
    "        subarr = arr[i:i+k]\n",
    "        subarr.sort()\n",
    "        if is_odd:\n",
    "            result.append(subarr[k//2])\n",
    "        else:\n",
    "            result.append((subarr[k//2-1]+subarr[k//2])/2.0)\n",
    "        \n",
    "    \n",
    "    return result\n",
    "    "
   ]
  },
  {
   "cell_type": "markdown",
   "metadata": {},
   "source": [
    "### Insert O(logK) Remove O(K) Total O(N(K+logK))"
   ]
  },
  {
   "cell_type": "code",
   "execution_count": 5,
   "metadata": {},
   "outputs": [],
   "source": [
    "from heapq import *\n",
    "import heapq\n",
    "\n",
    "class Solution():\n",
    "    \n",
    "    def __init__(self):\n",
    "        self.maxHeap = []\n",
    "        self.minHeap = []\n",
    "    \n",
    "    def rebalance_heaps(self):\n",
    "        if len(self.maxHeap) > len(self.minHeap) + 1:\n",
    "            heappush(self.minHeap, -heappop(self.maxHeap))\n",
    "        \n",
    "        elif len(self.maxHeap) < len(self.minHeap):\n",
    "            heappush(self.maxHeap, -heappop(self.minHeap))\n",
    "    \n",
    "    def remove(self, element):\n",
    "        \n",
    "        if element <= -self.maxHeap[0]:\n",
    "            heap = self.maxHeap\n",
    "            element = -element\n",
    "        else:\n",
    "            heap = self.minHeap\n",
    "        \n",
    "        ind = heap.index(element)\n",
    "        # swap\n",
    "        heap[ind] = heap[-1]\n",
    "        del heap[-1]\n",
    "        \n",
    "        # fix up\n",
    "        if ind < len(heap):\n",
    "            heapq._siftup(heap, ind)\n",
    "            heapq._siftdown(heap, 0, ind)\n",
    "        \n",
    "        self.rebalance_heaps()\n",
    "        \n",
    "    \n",
    "    def insert(self, element):\n",
    "        if not self.maxHeap or element <= -self.maxHeap[0]:\n",
    "            heappush(self.maxHeap, -element)\n",
    "        else:\n",
    "            heappush(self.minHeap, element)\n",
    "            \n",
    "        self.rebalance_heaps()\n",
    "    \n",
    "    def median(self):\n",
    "        if len(self.maxHeap) == len(self.minHeap):\n",
    "            return -self.maxHeap[0] / 2.0 + self.minHeap[0] / 2.0\n",
    "        \n",
    "        return -self.maxHeap[0]\n",
    "    \n",
    "    \n",
    "    def find_median(self, nums, k):\n",
    "        result = []\n",
    "        n = len(nums)\n",
    "        \n",
    "        for i in range(k):\n",
    "            self.insert(nums[i])\n",
    "            \n",
    "        result.append(self.median())\n",
    "        \n",
    "        for i in range(k,n):\n",
    "            \n",
    "            self.remove(nums[i-k])\n",
    "            self.insert(nums[i])\n",
    "            result.append(self.median())\n",
    "        \n",
    "        return result\n",
    "        \n"
   ]
  },
  {
   "cell_type": "code",
   "execution_count": 6,
   "metadata": {},
   "outputs": [
    {
     "data": {
      "text/plain": [
       "[1, 2, 3]"
      ]
     },
     "execution_count": 6,
     "metadata": {},
     "output_type": "execute_result"
    }
   ],
   "source": [
    "arr = [1, 2, -1, 3, 5]\n",
    "sol = Solution()\n",
    "sol.find_median(arr, 3)"
   ]
  },
  {
   "cell_type": "markdown",
   "metadata": {},
   "source": [
    "## Maximize Capital (hard)\n",
    "\n",
    "Given a set of investment projects with their respective profits, we need to find the most profitable projects. We are given an initial capital and are allowed to invest only in a fixed number of projects. Our goal is to choose projects that give us the maximum profit. Write a function that returns the maximum total capital after selecting the most profitable projects."
   ]
  },
  {
   "cell_type": "markdown",
   "metadata": {},
   "source": [
    "### Recursive + Heap, We don't know if the capital and profits are sorted or not."
   ]
  },
  {
   "cell_type": "code",
   "execution_count": 4,
   "metadata": {},
   "outputs": [],
   "source": [
    "from heapq import heappop, heappush\n",
    "\n",
    "def find_maximum_capital(capital, profits, numberOfProjects, initialCapital):\n",
    "    \n",
    "    if numberOfProjects == 0:\n",
    "        return 0\n",
    "    \n",
    "    affordable = []\n",
    "    for i in range(len(capital)):\n",
    "        if capital[i] <= initialCapital:\n",
    "            heappush(affordable, -profits[i])\n",
    "    \n",
    "    return -affordable[0] + find_maximum_capital(capital, profits, numberOfProjects-1, initialCapital-affordable[0])\n",
    "        "
   ]
  },
  {
   "cell_type": "code",
   "execution_count": 6,
   "metadata": {},
   "outputs": [
    {
     "data": {
      "text/plain": [
       "6"
      ]
     },
     "execution_count": 6,
     "metadata": {},
     "output_type": "execute_result"
    }
   ],
   "source": [
    "find_maximum_capital([0, 1, 2], [1, 2, 3], 2, 1) + 1"
   ]
  },
  {
   "cell_type": "markdown",
   "metadata": {},
   "source": [
    "## Next Interval (hard)\n",
    "\n",
    "Given an array of intervals, find the next interval of each interval. In a list of intervals, for an interval ‘i’ its next interval ‘j’ will have the smallest ‘start’ greater than or equal to the ‘end’ of ‘i’.\n",
    "\n",
    "Write a function to return an array containing indices of the next interval of each input interval. If there is no next interval of a given interval, return -1. It is given that none of the intervals have the same start point."
   ]
  },
  {
   "cell_type": "markdown",
   "metadata": {},
   "source": [
    "## Brute Force O(N<sup>2</sup>)\n",
    "\n",
    "Very Ugly"
   ]
  },
  {
   "cell_type": "code",
   "execution_count": 11,
   "metadata": {},
   "outputs": [],
   "source": [
    "class Interval:\n",
    "    def __init__(self, start, end):\n",
    "        self.start = start\n",
    "        self.end = end\n",
    "        \n",
    "def find_next_interval(intervals):\n",
    "    result = [-1] * len(intervals)\n",
    "    \n",
    "    n = len(intervals)\n",
    "    for i in range(n):\n",
    "        end = intervals[i].end\n",
    "        min_start = None\n",
    "        for j in range(n):\n",
    "            if intervals[j].start >= end:\n",
    "                if min_start is None:\n",
    "                    min_start = intervals[j].start\n",
    "                    result[i] = j\n",
    "                else:\n",
    "                    if min_start > intervals[j].start:\n",
    "                        result[i] = j\n",
    "\n",
    "    return result"
   ]
  },
  {
   "cell_type": "markdown",
   "metadata": {},
   "source": [
    "## Two Heap O(NlogN)\n",
    "\n",
    "Using two maximum heaps to store both the start and the end of intervals. \n",
    "\n",
    "First step: O(NlogN)\n",
    "Second step: O(NlogN)"
   ]
  },
  {
   "cell_type": "code",
   "execution_count": 7,
   "metadata": {},
   "outputs": [],
   "source": [
    "from heapq import heappop, heappush\n",
    "\n",
    "class Interval:\n",
    "    def __init__(self, start, end):\n",
    "        self.start = start\n",
    "        self.end = end\n",
    "\n",
    "\n",
    "def find_next_interval(intervals):\n",
    "    result = [-1] * len(intervals)\n",
    "    \n",
    "    # max start and end\n",
    "    heap1 = []\n",
    "    heap2 = []\n",
    "    \n",
    "    for i in range(len(intervals)):\n",
    "        heappush(heap1, (-intervals[i].start, i))\n",
    "        heappush(heap2, (-intervals[i].end, i))\n",
    "    \n",
    "    \n",
    "    _, idx = heappop(heap2)\n",
    "    result[idx] = -1\n",
    "    \n",
    "    while heap2:\n",
    "        end, idx = heappop(heap2)\n",
    "        idx2 = -1\n",
    "        start = None\n",
    "        while -heap1[0][0] >= -end:\n",
    "            start, idx2 = heappop(heap1)\n",
    "        result[idx] = idx2\n",
    "        \n",
    "        # push back !\n",
    "        if start:\n",
    "            heappush(heap1, (start, idx2))\n",
    "        \n",
    "    return result\n",
    "    "
   ]
  },
  {
   "cell_type": "code",
   "execution_count": 10,
   "metadata": {},
   "outputs": [
    {
     "name": "stdout",
     "output_type": "stream",
     "text": [
      "[2, 3, -1, -1]\n"
     ]
    }
   ],
   "source": [
    "result = find_next_interval([Interval(3, 4), Interval(1, 5), Interval(4, 6), Interval(5, 8)])\n",
    "print(result)"
   ]
  },
  {
   "cell_type": "code",
   "execution_count": null,
   "metadata": {},
   "outputs": [],
   "source": []
  }
 ],
 "metadata": {
  "kernelspec": {
   "display_name": "Python 3",
   "language": "python",
   "name": "python3"
  },
  "language_info": {
   "codemirror_mode": {
    "name": "ipython",
    "version": 3
   },
   "file_extension": ".py",
   "mimetype": "text/x-python",
   "name": "python",
   "nbconvert_exporter": "python",
   "pygments_lexer": "ipython3",
   "version": "3.8.5"
  }
 },
 "nbformat": 4,
 "nbformat_minor": 4
}
