{
 "cells": [
  {
   "cell_type": "markdown",
   "metadata": {},
   "source": [
    "# Command\n",
    "\n",
    "Encapsulate a request as an object!"
   ]
  },
  {
   "cell_type": "markdown",
   "metadata": {},
   "source": [
    "## Example 1"
   ]
  },
  {
   "cell_type": "code",
   "execution_count": null,
   "metadata": {},
   "outputs": [],
   "source": [
    "from enum import Enum\n",
    "\n",
    "class Command:\n",
    "    def __init__(self):\n",
    "        self.success = False\n",
    "    \n",
    "    def invoke(self):\n",
    "        pass\n",
    "    \n",
    "    def undo(self):\n",
    "        pass\n",
    "\n",
    "class BuyCommand(Command):\n",
    "    def __init__(self, shop, item):\n",
    "        super().__init__()\n",
    "        self.shop = shop\n",
    "        self.item = item\n",
    "    \n",
    "    def invoke(self):\n",
    "        self.shop.income -= item.price\n",
    "        if self.shop.items.get(item.name) is None:\n",
    "            self.shop.items[self.item.name] = {\n",
    "                'item': self.item,\n",
    "                'qty': 0\n",
    "            }\n",
    "        self.shop.items[self.item.name]['qty'] += 1\n",
    "        self.success = True\n",
    "    \n",
    "    def undo(self):\n",
    "        if self.success:\n",
    "            self.shop.income += item.price\n",
    "            self.shop.items[self.item.name]['qty'] -= 1\n",
    "        self.success = False\n",
    "\n",
    "\n",
    "class SellCommand(Command):\n",
    "    pass\n",
    "\n",
    "class ShopKeeper:\n",
    "    def __init__(self, name, shop):\n",
    "        pass\n",
    "    \n",
    "    def buy(self, item):\n",
    "        buyCommand = BuyCommand(self.shop, item)\n",
    "        buyCommand.invoke()\n",
    "    \n",
    "    def sell(self, item):\n",
    "        pass\n",
    "    \n",
    "        \n",
    "        \n",
    "\n",
    "class Shop:\n",
    "    def __init__(self):\n",
    "        self.income = 0\n",
    "        self.items = {}\n",
    "    \n",
    "    def buy_item(self, item):\n",
    "        pass\n",
    "    \n",
    "    \n",
    "    def sell_item(self, name, price):\n",
    "        pass\n",
    "    \n",
    "    def remove_item(self, name):\n",
    "        pass\n",
    "    \n",
    "    def search_item(self, name):\n",
    "        pass\n",
    "    \n",
    "    \n",
    "class Item:\n",
    "    def __init__(self, name, price):\n",
    "        self.name = name\n",
    "        self.price = price\n",
    "\n"
   ]
  },
  {
   "cell_type": "markdown",
   "metadata": {},
   "source": [
    "## Example 2"
   ]
  },
  {
   "cell_type": "code",
   "execution_count": null,
   "metadata": {},
   "outputs": [],
   "source": []
  }
 ],
 "metadata": {
  "kernelspec": {
   "display_name": "Python 3",
   "language": "python",
   "name": "python3"
  },
  "language_info": {
   "codemirror_mode": {
    "name": "ipython",
    "version": 3
   },
   "file_extension": ".py",
   "mimetype": "text/x-python",
   "name": "python",
   "nbconvert_exporter": "python",
   "pygments_lexer": "ipython3",
   "version": "3.8.5"
  }
 },
 "nbformat": 4,
 "nbformat_minor": 4
}
