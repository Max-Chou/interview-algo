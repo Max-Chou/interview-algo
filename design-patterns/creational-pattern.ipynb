{
 "cells": [
  {
   "cell_type": "markdown",
   "metadata": {},
   "source": [
    "# Creational Pattern\n",
    "\n",
    "* Builder\n",
    "* Factory\n",
    "* Abstract Factory\n",
    "* Prototype\n",
    "\n",
    "*  **Singleton**"
   ]
  },
  {
   "cell_type": "code",
   "execution_count": 12,
   "metadata": {},
   "outputs": [],
   "source": [
    "class Player:\n",
    "    def __init__(self):\n",
    "        self.name = None\n",
    "        self.weapon = None\n",
    "        self.armor = None\n",
    "\n",
    "class PlayerBuilder:\n",
    "    def __init__(self, player=Player()):\n",
    "        self.player = player\n",
    "    \n",
    "    @property\n",
    "    def weapon(self):\n",
    "        return WeaponBuilder(self.player)\n",
    "    \n",
    "    @property\n",
    "    def armor(self):\n",
    "        return ArmorBuilder(self.player)\n",
    "    \n",
    "    def named(self, name):\n",
    "        self.player.name = name\n",
    "        return self\n",
    "    \n",
    "    def build(self):\n",
    "        return self.player\n",
    "\n",
    "class WeaponBuilder(PlayerBuilder):\n",
    "    def __init__(self, player):\n",
    "        super().__init__(player)\n",
    "        \n",
    "    def equip(self, weapon):\n",
    "        self.player.weapon = weapon\n",
    "        return self\n",
    "        \n",
    "class ArmorBuilder(PlayerBuilder):\n",
    "    def __init__(self, player):\n",
    "        super().__init__(player)\n",
    "    \n",
    "    def equip(self, armor):\n",
    "        self.player.armor = armor\n",
    "        return self\n",
    "    \n",
    "class Game:\n",
    "    def create_player(self, name, builder):\n",
    "        player = builder.named(name).build()\n",
    "        return player"
   ]
  },
  {
   "cell_type": "markdown",
   "metadata": {},
   "source": [
    "## Builder Pattern\n",
    "\n",
    "There are many builders to build the players."
   ]
  },
  {
   "cell_type": "code",
   "execution_count": 17,
   "metadata": {},
   "outputs": [],
   "source": [
    "player_builder = PlayerBuilder().weapon.equip('wood sword').armor.equip('wood armor')\n",
    "cheat_player_builder = PlayerBuilder().weapon.equip('Machine Gun').armor.equip('Bullet Proof Armor')\n",
    "game = Game()\n",
    "\n",
    "player = game.create_player('john', player_builder)"
   ]
  },
  {
   "cell_type": "markdown",
   "metadata": {},
   "source": [
    "## Factory Pattern\n",
    "\n",
    "We can mondify the Game by the inheritance of the interface."
   ]
  },
  {
   "cell_type": "code",
   "execution_count": 20,
   "metadata": {},
   "outputs": [],
   "source": [
    "class Game:\n",
    "    def create_player(self, name):\n",
    "        player = Player()\n",
    "        player.name = name\n",
    "        player.weapon = self.create_weapon()\n",
    "        player.armor = self.create_armor()\n",
    "        return player\n",
    "    \n",
    "    def create_weapon(self):\n",
    "        pass\n",
    "    \n",
    "    def create_armor(self):\n",
    "        pass"
   ]
  },
  {
   "cell_type": "markdown",
   "metadata": {},
   "source": [
    "## Abstract Factory Pattern"
   ]
  },
  {
   "cell_type": "code",
   "execution_count": null,
   "metadata": {},
   "outputs": [],
   "source": [
    "class PlayerFactory:\n",
    "    def create(self):\n",
    "        pass\n",
    "    \n",
    "class DumbPlayerFactory:\n",
    "    def create(self):\n",
    "        player = \n",
    "        return player\n",
    "\n",
    "class SuperPlayerFactory:\n",
    "    def create(self):\n",
    "        player = \n",
    "        return player\n",
    "\n",
    "class Game:\n",
    "    def create_player(self, name, factory):\n",
    "        player = Player()\n",
    "        player.name = name\n",
    "        player.weapon = factory.create_weapon()\n",
    "        player.armor = factory.create_armor()\n",
    "        \n",
    "        return player\n"
   ]
  },
  {
   "cell_type": "markdown",
   "metadata": {},
   "source": [
    "## Prototype Pattern"
   ]
  },
  {
   "cell_type": "code",
   "execution_count": 22,
   "metadata": {},
   "outputs": [],
   "source": [
    "class Weapon:\n",
    "    def __init__(self, name, attack, price):\n",
    "        pass\n",
    "    \n",
    "class Armor:\n",
    "    def __init__(self, name, defence, price):\n",
    "        pass\n",
    "\n",
    "class Game:\n",
    "    \n",
    "    default_name = 'john'\n",
    "    default_weapon = Weapon('wood sword', 10, 10)\n",
    "    default_armor = Armor('wood armor', 5, 5)\n",
    "    \n",
    "    def create_player(self, name=None, weapon=None, armor=None):\n",
    "        pass"
   ]
  },
  {
   "cell_type": "markdown",
   "metadata": {},
   "source": [
    "## Singleton"
   ]
  },
  {
   "cell_type": "code",
   "execution_count": 23,
   "metadata": {},
   "outputs": [],
   "source": [
    "class Player:\n",
    "    _player = None\n",
    "    \n",
    "    def __new__(cls, *args, **kwargs):\n",
    "        if cls._player is None:\n",
    "            cls._player = super(Player, cls).__new__(cls, *args, **kwargs)\n",
    "        return cls._player"
   ]
  },
  {
   "cell_type": "markdown",
   "metadata": {},
   "source": [
    "Well, this is stupid..."
   ]
  },
  {
   "cell_type": "code",
   "execution_count": 24,
   "metadata": {},
   "outputs": [],
   "source": [
    "john = Player()\n",
    "lisa = Player()"
   ]
  },
  {
   "cell_type": "code",
   "execution_count": 25,
   "metadata": {},
   "outputs": [],
   "source": [
    "john.name = 'john'"
   ]
  },
  {
   "cell_type": "code",
   "execution_count": 26,
   "metadata": {},
   "outputs": [
    {
     "data": {
      "text/plain": [
       "'john'"
      ]
     },
     "execution_count": 26,
     "metadata": {},
     "output_type": "execute_result"
    }
   ],
   "source": [
    "lisa.name"
   ]
  },
  {
   "cell_type": "code",
   "execution_count": null,
   "metadata": {},
   "outputs": [],
   "source": []
  }
 ],
 "metadata": {
  "kernelspec": {
   "display_name": "Python 3",
   "language": "python",
   "name": "python3"
  },
  "language_info": {
   "codemirror_mode": {
    "name": "ipython",
    "version": 3
   },
   "file_extension": ".py",
   "mimetype": "text/x-python",
   "name": "python",
   "nbconvert_exporter": "python",
   "pygments_lexer": "ipython3",
   "version": "3.8.5"
  }
 },
 "nbformat": 4,
 "nbformat_minor": 4
}
