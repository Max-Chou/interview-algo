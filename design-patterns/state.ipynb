{
 "cells": [
  {
   "cell_type": "markdown",
   "metadata": {},
   "source": [
    "# State\n",
    "\n",
    "allow an object to alter its behavior when its internal state changes."
   ]
  },
  {
   "cell_type": "markdown",
   "metadata": {},
   "source": [
    "## Example 1\n",
    "\n",
    "Simple Case"
   ]
  },
  {
   "cell_type": "code",
   "execution_count": 13,
   "metadata": {},
   "outputs": [],
   "source": [
    "class Switch:\n",
    "    def __init__(self):\n",
    "        self._state = OffState()\n",
    "    \n",
    "    def on(self):\n",
    "        self._state.on(self)\n",
    "        \n",
    "    def off(self):\n",
    "        self._state.off(self)\n",
    "        \n",
    "    @property\n",
    "    def state(self):\n",
    "        return self._state\n",
    "    \n",
    "    @state.setter\n",
    "    def state(self, state):\n",
    "        self._state = state\n",
    "    \n",
    "class State:\n",
    "    def on(self, switch):\n",
    "        print('Light is already on')\n",
    "    \n",
    "    def off(self, switch):\n",
    "        print('Light is already off')\n",
    "    \n",
    "class OnState(State):\n",
    "    def __init__(self):\n",
    "        print('Light turned on')\n",
    "    \n",
    "    def off(self, switch):\n",
    "        print('Turning light off...')\n",
    "        switch.state = OffState()\n",
    "    \n",
    "class OffState(State):\n",
    "    def __init__(self):\n",
    "        print('Light turned off')\n",
    "    \n",
    "    def on(self, switch):\n",
    "        print('Turning light on...')\n",
    "        switch.state = OnState()\n"
   ]
  },
  {
   "cell_type": "code",
   "execution_count": 14,
   "metadata": {},
   "outputs": [
    {
     "name": "stdout",
     "output_type": "stream",
     "text": [
      "Light turned off\n"
     ]
    }
   ],
   "source": [
    "power_switch = Switch()"
   ]
  },
  {
   "cell_type": "code",
   "execution_count": 15,
   "metadata": {},
   "outputs": [
    {
     "name": "stdout",
     "output_type": "stream",
     "text": [
      "Turning light on...\n",
      "Light turned on\n"
     ]
    }
   ],
   "source": [
    "power_switch.on()"
   ]
  },
  {
   "cell_type": "code",
   "execution_count": 16,
   "metadata": {},
   "outputs": [
    {
     "name": "stdout",
     "output_type": "stream",
     "text": [
      "Light is already on\n"
     ]
    }
   ],
   "source": [
    "power_switch.on()"
   ]
  },
  {
   "cell_type": "code",
   "execution_count": 17,
   "metadata": {},
   "outputs": [
    {
     "name": "stdout",
     "output_type": "stream",
     "text": [
      "Turning light off...\n",
      "Light turned off\n"
     ]
    }
   ],
   "source": [
    "power_switch.off()"
   ]
  },
  {
   "cell_type": "markdown",
   "metadata": {},
   "source": [
    "## Example 2"
   ]
  },
  {
   "cell_type": "code",
   "execution_count": 20,
   "metadata": {},
   "outputs": [],
   "source": [
    "from enum import Enum, auto\n",
    "import time\n",
    "\n",
    "class State(Enum):\n",
    "    STAND_BY = auto()\n",
    "    BUSY = auto()\n",
    "    DEAD = auto()\n",
    "    SHUTDOWN = auto()\n",
    "    PREPARE = auto()\n",
    "    \n",
    "class Machine:\n",
    "    def __init__(self, name):\n",
    "        self.name = name\n",
    "        self._state = State.SHUTDOWN\n",
    "        \n",
    "    def switch(self):\n",
    "        if self._state is State.SHUTDOWN:\n",
    "            self._state = State.PREPARE\n",
    "            print(\"Turn on the machine... please wait...\")\n",
    "        \n",
    "    def work(self, job):\n",
    "        if self._state is State.STAND_BY:\n",
    "            print(f'The machine is working on {job}')\n",
    "            self._state = State.BUSY\n",
    "    \n",
    "        "
   ]
  },
  {
   "cell_type": "code",
   "execution_count": null,
   "metadata": {},
   "outputs": [],
   "source": []
  }
 ],
 "metadata": {
  "kernelspec": {
   "display_name": "Python 3",
   "language": "python",
   "name": "python3"
  },
  "language_info": {
   "codemirror_mode": {
    "name": "ipython",
    "version": 3
   },
   "file_extension": ".py",
   "mimetype": "text/x-python",
   "name": "python",
   "nbconvert_exporter": "python",
   "pygments_lexer": "ipython3",
   "version": "3.8.5"
  }
 },
 "nbformat": 4,
 "nbformat_minor": 4
}
