{
 "cells": [
  {
   "cell_type": "markdown",
   "metadata": {},
   "source": [
    "# Model View Presenter\n",
    "\n",
    "* Model\n",
    "\n",
    "* View\n",
    "\n",
    "* Presenter\n",
    "\n"
   ]
  },
  {
   "cell_type": "code",
   "execution_count": 1,
   "metadata": {},
   "outputs": [],
   "source": [
    "class Model:\n",
    "    pass\n",
    "\n",
    "class View:\n",
    "    def __init__(self):\n",
    "        self.presenter = None\n",
    "    \n",
    "class Presenter:\n",
    "    def __init__(self, view):\n",
    "        self.view = view\n",
    "        self.model = None\n",
    "    "
   ]
  },
  {
   "cell_type": "markdown",
   "metadata": {},
   "source": [
    "## Compare to MVC\n",
    "\n",
    "* The presenter is one to one mapping with the view. And the controller can share multiple views.\n",
    "\n",
    "* The view and the model are more seperate in MVP pattern."
   ]
  },
  {
   "cell_type": "code",
   "execution_count": null,
   "metadata": {},
   "outputs": [],
   "source": []
  }
 ],
 "metadata": {
  "kernelspec": {
   "display_name": "Python 3",
   "language": "python",
   "name": "python3"
  },
  "language_info": {
   "codemirror_mode": {
    "name": "ipython",
    "version": 3
   },
   "file_extension": ".py",
   "mimetype": "text/x-python",
   "name": "python",
   "nbconvert_exporter": "python",
   "pygments_lexer": "ipython3",
   "version": "3.8.5"
  }
 },
 "nbformat": 4,
 "nbformat_minor": 4
}
