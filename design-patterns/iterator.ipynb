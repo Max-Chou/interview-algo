{
 "cells": [
  {
   "cell_type": "markdown",
   "metadata": {},
   "source": [
    "# Iterator\n",
    "\n",
    "An object that facilitates the traversal of a data structure.\n",
    "\n",
    "* \\_\\_iter\\_\\_() to expose the iterator\n",
    "* \\_\\_next\\_\\_() to return the next iterator\n",
    "* raise StopIteration when it's done"
   ]
  },
  {
   "cell_type": "markdown",
   "metadata": {},
   "source": [
    "## Example 1\n",
    "\n",
    "Binary Tree"
   ]
  },
  {
   "cell_type": "code",
   "execution_count": 76,
   "metadata": {},
   "outputs": [],
   "source": [
    "class Node:\n",
    "    def __init__(self, value, left=None, right=None):\n",
    "        self.value = value\n",
    "        self.left = left\n",
    "        self.right = right\n",
    "    \n",
    "    # in-order traversal\n",
    "    def __iter__(self):\n",
    "        yield self\n",
    "        if self.left:\n",
    "            yield from self.left\n",
    "        if self.right:\n",
    "            yield from self.right"
   ]
  },
  {
   "cell_type": "code",
   "execution_count": 74,
   "metadata": {},
   "outputs": [],
   "source": [
    "class Tree:\n",
    "    def __init__(self, root=None):\n",
    "        self.root = root\n",
    "    \n",
    "    def __iter__(self):\n",
    "        yield from self.root"
   ]
  },
  {
   "cell_type": "code",
   "execution_count": 75,
   "metadata": {},
   "outputs": [
    {
     "name": "stdout",
     "output_type": "stream",
     "text": [
      "1\n",
      "2\n",
      "4\n",
      "7\n",
      "5\n",
      "8\n",
      "3\n",
      "6\n"
     ]
    }
   ],
   "source": [
    "root = Node(1, Node(2, Node(4, Node(7)), Node(5, None, Node(8))), Node(3, Node(6)))\n",
    "tree = Tree(root)\n",
    "\n",
    "for node in tree:\n",
    "    print(node.value)"
   ]
  },
  {
   "cell_type": "markdown",
   "metadata": {},
   "source": [
    "## Example 2"
   ]
  },
  {
   "cell_type": "code",
   "execution_count": null,
   "metadata": {},
   "outputs": [],
   "source": [
    "class Monster:\n",
    "    def __init__(self, name, attack, defense):\n",
    "        self.name = name\n",
    "        self.attack = attack\n",
    "        self.defense = defense\n",
    "\n",
    "        "
   ]
  }
 ],
 "metadata": {
  "kernelspec": {
   "display_name": "Python 3",
   "language": "python",
   "name": "python3"
  },
  "language_info": {
   "codemirror_mode": {
    "name": "ipython",
    "version": 3
   },
   "file_extension": ".py",
   "mimetype": "text/x-python",
   "name": "python",
   "nbconvert_exporter": "python",
   "pygments_lexer": "ipython3",
   "version": "3.8.5"
  }
 },
 "nbformat": 4,
 "nbformat_minor": 4
}
