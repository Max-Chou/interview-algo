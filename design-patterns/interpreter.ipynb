{
 "cells": [
  {
   "cell_type": "markdown",
   "metadata": {},
   "source": [
    "# Interperter"
   ]
  },
  {
   "cell_type": "markdown",
   "metadata": {},
   "source": [
    "## Example 1\n",
    "\n",
    "1. Translate raw string to tokens.\n",
    "\n",
    "2. Translate the tokens to another expressions and calculate them."
   ]
  },
  {
   "cell_type": "code",
   "execution_count": 37,
   "metadata": {},
   "outputs": [],
   "source": [
    "from enum import Enum, auto\n",
    "\n",
    "class Token:\n",
    "    class Type(Enum):\n",
    "        INTEGER = auto()\n",
    "        PLUS = auto()\n",
    "        MINUS = auto()\n",
    "        LPAREN = auto()\n",
    "        RPAREN = auto()\n",
    "    \n",
    "    def __init__(self, typ, text):\n",
    "        self.typ = typ\n",
    "        self.text = text\n",
    "    \n",
    "    def __str__(self):\n",
    "        return f'{self.text}'\n",
    "    \n",
    "def lex(content):\n",
    "    result = []\n",
    "    \n",
    "    i = 0\n",
    "    while i < len(content):\n",
    "        if content[i] == '+':\n",
    "            result.append(Token(Token.Type.PLUS, '+'))\n",
    "            \n",
    "        elif content[i] == '-':\n",
    "            result.append(Token(Token.Type.MINUS, '-'))\n",
    "        \n",
    "        elif content[i] == '(':\n",
    "            result.append(Token(Token.Type.LPAREN, '('))\n",
    "        \n",
    "        elif content[i] == ')':\n",
    "            result.append(Token(Token.Type.RPAREN, ')'))\n",
    "        \n",
    "        else:\n",
    "            digits = [content[i]]\n",
    "            for j in range(i+1, len(content)):\n",
    "                if content[j].isdigit():\n",
    "                    digits.append(content[j])\n",
    "                    i += 1\n",
    "                else:\n",
    "                    result.append(Token(Token.Type.INTEGER,''.join(digits)))\n",
    "                    break\n",
    "        i += 1\n",
    "    return result\n",
    "\n",
    "class Integer:\n",
    "    def __init__(self, value):\n",
    "        self.value = value\n",
    "\n",
    "class BinaryExpression:\n",
    "    class Type(Enum):\n",
    "        ADDITION = auto()\n",
    "        SUBTRACTION = auto()\n",
    "    \n",
    "    def __init__(self):\n",
    "        self.typ = None\n",
    "        self.left = None\n",
    "        self.right = None\n",
    "    \n",
    "    @property\n",
    "    def value(self):\n",
    "        if self.typ == self.Type.ADDITION:\n",
    "            return self.left.value + self.right.value\n",
    "        else:\n",
    "            return self.left.value - self.right.value\n",
    "    \n",
    "def parse(tokens):\n",
    "    result = BinaryExpression()\n",
    "    have_lhs = False\n",
    "    i = 0\n",
    "    while i < len(tokens):\n",
    "        token = tokens[i]\n",
    "        \n",
    "        if token.typ == Token.Type.INTEGER:\n",
    "            integer = Integer(int(token.text))\n",
    "            if not have_lhs:\n",
    "                result.left = integer\n",
    "                have_lhs = True\n",
    "            else:\n",
    "                result.right = integer\n",
    "        elif token.typ == Token.Type.PLUS:\n",
    "            result.typ = BinaryExpression.Type.ADDITION\n",
    "        \n",
    "        elif token.typ == Token.Type.MINUS:\n",
    "            result.typ = BinaryExpression.Type.SUBTRACTION\n",
    "        \n",
    "        elif token.typ == Token.Type.LPAREN:\n",
    "            j = i\n",
    "            while j < len(tokens):\n",
    "                if tokens[j].typ == Token.Type.RPAREN:\n",
    "                    break\n",
    "                j += 1\n",
    "            subexpression = tokens[i+1:j]\n",
    "            element = parse(subexpression)\n",
    "            if not have_lhs:\n",
    "                result.left = element\n",
    "                have_lhs = True\n",
    "            else:\n",
    "                result.right = element\n",
    "            \n",
    "            i = j\n",
    "        i += 1\n",
    "    \n",
    "    return result\n",
    "\n",
    "\n",
    "def calc(content):\n",
    "    tokens = lex(content)\n",
    "    \n",
    "    parsed = parse(tokens)\n",
    "    \n",
    "    print(f\"{content} = {parsed.value}\")\n",
    "    "
   ]
  },
  {
   "cell_type": "code",
   "execution_count": 38,
   "metadata": {},
   "outputs": [
    {
     "name": "stdout",
     "output_type": "stream",
     "text": [
      "(13+4)-(12+1) = 4\n"
     ]
    }
   ],
   "source": [
    "calc('(13+4)-(12+1)')"
   ]
  },
  {
   "cell_type": "code",
   "execution_count": null,
   "metadata": {},
   "outputs": [],
   "source": []
  }
 ],
 "metadata": {
  "kernelspec": {
   "display_name": "Python 3",
   "language": "python",
   "name": "python3"
  },
  "language_info": {
   "codemirror_mode": {
    "name": "ipython",
    "version": 3
   },
   "file_extension": ".py",
   "mimetype": "text/x-python",
   "name": "python",
   "nbconvert_exporter": "python",
   "pygments_lexer": "ipython3",
   "version": "3.8.5"
  }
 },
 "nbformat": 4,
 "nbformat_minor": 4
}
