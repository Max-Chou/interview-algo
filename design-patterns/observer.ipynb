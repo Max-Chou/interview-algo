{
 "cells": [
  {
   "cell_type": "markdown",
   "metadata": {},
   "source": [
    "# Observer\n",
    "\n",
    "define a one-to-many dependency between objects so that when one object changes state, all its dependents are notified and updated automatically."
   ]
  },
  {
   "cell_type": "markdown",
   "metadata": {},
   "source": [
    "## Example 1"
   ]
  },
  {
   "cell_type": "code",
   "execution_count": 2,
   "metadata": {},
   "outputs": [],
   "source": [
    "class Event(list):\n",
    "    def __call__(self, *args, **kwargs):\n",
    "        for item in self:\n",
    "            item(*args, **kwargs)\n",
    "\n",
    "class Monster:\n",
    "    def __init__(self, name):\n",
    "        self.name = name\n",
    "        self.events = Event()\n",
    "        self._level = 1\n",
    "        self._exp = 1\n",
    "    \n",
    "    @property\n",
    "    def level(self):\n",
    "        return self._level\n",
    "    \n",
    "    @level.setter\n",
    "    def level(self, level):\n",
    "        if self._level == level:\n",
    "            return\n",
    "        self._level = level\n",
    "        self.events('level', level)\n",
    "\n",
    "class Keeper:\n",
    "    def __init__(self, monster):\n",
    "        self.monster = monster\n",
    "        monster.events.append(self.level_up)\n",
    "    \n",
    "    def level_up(self, name, value):\n",
    "        if name == 'level':\n",
    "            if value >= 50:\n",
    "                print(\"The Monster is too strong!\")\n",
    "            elif value < 20:\n",
    "                print(\"The Monster is too weak!\")\n",
    "            else:\n",
    "                print(\"The Monster is OK!\")\n",
    "\n",
    "    "
   ]
  },
  {
   "cell_type": "code",
   "execution_count": 8,
   "metadata": {},
   "outputs": [],
   "source": [
    "monster = Monster('Sheep')\n",
    "\n",
    "keeper = Keeper(monster)"
   ]
  },
  {
   "cell_type": "code",
   "execution_count": 9,
   "metadata": {},
   "outputs": [
    {
     "name": "stdout",
     "output_type": "stream",
     "text": [
      "The Monster is too weak!\n"
     ]
    }
   ],
   "source": [
    "monster.level = 10"
   ]
  },
  {
   "cell_type": "code",
   "execution_count": 6,
   "metadata": {},
   "outputs": [
    {
     "name": "stdout",
     "output_type": "stream",
     "text": [
      "The Monster is OK!\n"
     ]
    }
   ],
   "source": [
    "monster.level = 20"
   ]
  },
  {
   "cell_type": "code",
   "execution_count": 7,
   "metadata": {},
   "outputs": [
    {
     "name": "stdout",
     "output_type": "stream",
     "text": [
      "The Monster is too strong!\n"
     ]
    }
   ],
   "source": [
    "monster.level = 50"
   ]
  },
  {
   "cell_type": "markdown",
   "metadata": {},
   "source": [
    "## Example 2"
   ]
  },
  {
   "cell_type": "code",
   "execution_count": 10,
   "metadata": {},
   "outputs": [],
   "source": [
    "class Node:\n",
    "    def __init__(self, value):\n",
    "        self.value = value\n",
    "        self.left = None\n",
    "        self.right = None\n",
    "        \n",
    "        self._tree = None\n",
    "        self._height = -1\n",
    "    \n",
    "    @property\n",
    "    def height(self):\n",
    "        return self._height\n",
    "    \n",
    "    @height.setter\n",
    "    def height(self, value):\n",
    "        self._height = value\n",
    "        self._tree.update()\n",
    "        \n",
    "class Tree:\n",
    "    def __init__(self):\n",
    "        self.root = None\n",
    "        \n",
    "    def add_node(self):\n",
    "        pass\n",
    "    \n",
    "    "
   ]
  },
  {
   "cell_type": "code",
   "execution_count": null,
   "metadata": {},
   "outputs": [],
   "source": []
  }
 ],
 "metadata": {
  "kernelspec": {
   "display_name": "Python 3",
   "language": "python",
   "name": "python3"
  },
  "language_info": {
   "codemirror_mode": {
    "name": "ipython",
    "version": 3
   },
   "file_extension": ".py",
   "mimetype": "text/x-python",
   "name": "python",
   "nbconvert_exporter": "python",
   "pygments_lexer": "ipython3",
   "version": "3.8.5"
  }
 },
 "nbformat": 4,
 "nbformat_minor": 4
}
