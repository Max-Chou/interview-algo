{
 "cells": [
  {
   "cell_type": "markdown",
   "metadata": {},
   "source": [
    "# Prototype \n",
    "\n",
    "an existing design is a prototype."
   ]
  },
  {
   "cell_type": "markdown",
   "metadata": {},
   "source": [
    "## Example 1"
   ]
  },
  {
   "cell_type": "code",
   "execution_count": 15,
   "metadata": {},
   "outputs": [],
   "source": [
    "import copy\n",
    "\n",
    "class Player:\n",
    "    def __init__(self):\n",
    "        self.name = None\n",
    "        self.sword = None\n",
    "        self.armor = None\n",
    "        self.gold = None\n",
    "\n",
    "    def __str__(self):\n",
    "        return f\"{self.name} has {self.sword} and {self.armor}.\"\n",
    "\n",
    "\n",
    "class Weapon:\n",
    "    def __init__(self, name, attack, price):\n",
    "        self.name = name\n",
    "        self.attack = attack\n",
    "        self.price = price\n",
    "    \n",
    "    def __str__(self):\n",
    "        return self.name\n",
    "\n",
    "class Armor:\n",
    "    def __init__(self, name, defence, price):\n",
    "        self.name = name\n",
    "        self.defence = defence\n",
    "        self.price = price\n",
    "    \n",
    "    def __str__(self):\n",
    "        return self.name\n",
    "    \n",
    "class PlayerCreator:\n",
    "    \n",
    "    default_name = \"john\"\n",
    "    default_sword = \"Wood Sword\"\n",
    "    default_armor = \"Wood Armor\"\n",
    "    default_gold = 100\n",
    "    \n",
    "    def createPlayer(self, name=None):\n",
    "        if name is None:\n",
    "            name = self.default_name\n",
    "            \n",
    "        player = Player()\n",
    "        player.name = name\n",
    "        player.sword = copy.deepcopy(self.default_sword)\n",
    "        player.armor = copy.deepcopy(self.default_armor)\n",
    "        player.gold = self.default_gold\n",
    "        return player\n",
    "\n",
    "class SuperPlayerCreator(PlayerCreator):\n",
    "    default_sword = Weapon(\"Machine Gun\", 100, 10000)\n",
    "    default_armor = Armor(\"Bullet Proof Vast\", 50, 5000)\n",
    "    \n"
   ]
  },
  {
   "cell_type": "code",
   "execution_count": 16,
   "metadata": {},
   "outputs": [],
   "source": [
    "creator = PlayerCreator()\n",
    "boss = SuperPlayerCreator()\n",
    "default_player = creator.createPlayer()\n",
    "boss = boss.createPlayer()"
   ]
  },
  {
   "cell_type": "code",
   "execution_count": 17,
   "metadata": {},
   "outputs": [
    {
     "name": "stdout",
     "output_type": "stream",
     "text": [
      "john has Wood Sword and Wood Armor.\n",
      "john has Machine Gun and Bullet Proof Vast.\n"
     ]
    }
   ],
   "source": [
    "print(default_player)\n",
    "print(boss)"
   ]
  },
  {
   "cell_type": "code",
   "execution_count": null,
   "metadata": {},
   "outputs": [],
   "source": []
  }
 ],
 "metadata": {
  "kernelspec": {
   "display_name": "Python 3",
   "language": "python",
   "name": "python3"
  },
  "language_info": {
   "codemirror_mode": {
    "name": "ipython",
    "version": 3
   },
   "file_extension": ".py",
   "mimetype": "text/x-python",
   "name": "python",
   "nbconvert_exporter": "python",
   "pygments_lexer": "ipython3",
   "version": "3.8.5"
  }
 },
 "nbformat": 4,
 "nbformat_minor": 4
}
