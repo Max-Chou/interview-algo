{
 "cells": [
  {
   "cell_type": "markdown",
   "metadata": {},
   "source": [
    "# Structural Pattern\n",
    "\n",
    "* Adapter\n",
    "* Bridge\n",
    "* Composite\n",
    "* Decorator\n",
    "* Facade\n",
    "* Flyweight\n",
    "* Proxy\n",
    "\n",
    "## Interface\n",
    "\n",
    "### How to modify the interface of the existing class?\n",
    "\n",
    "* Composite\n",
    "* Inheritance\n",
    "\n",
    "### Structural Patterns about modifications of the interfaces\n",
    "\n",
    "* Adapter\n",
    "\n",
    "    We want to use the existing class but unfortunately the interface is wrong. \n",
    "\n",
    "* Composite\n",
    "\n",
    "    A single object and a group of objects **share** the same interface.\n",
    "\n",
    "* Facade\n",
    "\n",
    "    There are **many objects and classes** in the system. But the clients only use some of the methods.\n",
    "\n",
    "* Proxy\n",
    "\n",
    "    We want to limit the access to the object. \n",
    "\n",
    "* Decorator\n",
    "\n",
    "    We add the additional methods to the class.\n",
    "\n",
    "## Abstraction\n",
    "\n",
    "* Flyweight\n",
    "\n",
    "    We create the factory which controls the creation of the objects to **prevent duplicated objects**.\n",
    "\n",
    "* Bridge\n",
    "\n",
    "\n"
   ]
  },
  {
   "cell_type": "markdown",
   "metadata": {},
   "source": [
    "## Adapter\n",
    "\n",
    "Suppose that filename is like `name.extension`."
   ]
  },
  {
   "cell_type": "code",
   "execution_count": 1,
   "metadata": {},
   "outputs": [],
   "source": [
    "def display(video):\n",
    "    print(video.name)\n",
    "    print(video.duration)\n",
    "    print(video.format)\n",
    "    print(video.category)\n",
    "\n",
    "class ThirdPartyVideo:\n",
    "    def __init__(self, filename, time):\n",
    "        self.filename = filename\n",
    "        self.time = time\n",
    "\n",
    "class ThirdPatryVideoAdapter:\n",
    "    def __init__(self, video):\n",
    "        self._video = video\n",
    "        \n",
    "    @property\n",
    "    def name(self):\n",
    "        return self._video.filename.split('.')[0]\n",
    "    \n",
    "    @property\n",
    "    def format(self):\n",
    "        return self._video.filename.split('.')[1]\n",
    "\n",
    "    @property\n",
    "    def duration(self):\n",
    "        return str(self._video.time)\n",
    "    \n",
    "    @property\n",
    "    def category(self):\n",
    "        if hasattr(self._video, category):\n",
    "            return self._video.category\n",
    "        return None\n",
    "    "
   ]
  },
  {
   "cell_type": "markdown",
   "metadata": {},
   "source": [
    "## Composite"
   ]
  },
  {
   "cell_type": "code",
   "execution_count": 26,
   "metadata": {},
   "outputs": [],
   "source": [
    "class BasicWeapon:\n",
    "    @property\n",
    "    def attack(self):\n",
    "        att = 0\n",
    "        for c in self:\n",
    "            for i in c:\n",
    "                att += i._attack\n",
    "        return att\n",
    "    \n",
    "\n",
    "class Weapon(BasicWeapon):\n",
    "    def __init__(self, name, attack):\n",
    "        self.name = name\n",
    "        self._attack = attack\n",
    "    \n",
    "    def __iter__(self):\n",
    "        yield self\n",
    "\n",
    "class GroupWeapon(list, BasicWeapon):\n",
    "    def __init__(self, name):\n",
    "        super().__init__()\n",
    "        self.name = name\n"
   ]
  },
  {
   "cell_type": "code",
   "execution_count": 27,
   "metadata": {},
   "outputs": [],
   "source": [
    "weapon1 = Weapon('sword', 11)"
   ]
  },
  {
   "cell_type": "code",
   "execution_count": 28,
   "metadata": {},
   "outputs": [
    {
     "data": {
      "text/plain": [
       "11"
      ]
     },
     "execution_count": 28,
     "metadata": {},
     "output_type": "execute_result"
    }
   ],
   "source": [
    "weapon1.attack"
   ]
  },
  {
   "cell_type": "code",
   "execution_count": 29,
   "metadata": {},
   "outputs": [],
   "source": [
    "weapon2 = GroupWeapon('cluster sword')\n",
    "weapon2.append(Weapon('sword', 12))\n",
    "weapon2.append(Weapon('iron sword', 14))"
   ]
  },
  {
   "cell_type": "code",
   "execution_count": 30,
   "metadata": {},
   "outputs": [
    {
     "data": {
      "text/plain": [
       "26"
      ]
     },
     "execution_count": 30,
     "metadata": {},
     "output_type": "execute_result"
    }
   ],
   "source": [
    "weapon2.attack"
   ]
  },
  {
   "cell_type": "code",
   "execution_count": 32,
   "metadata": {},
   "outputs": [],
   "source": [
    "weapon3 = GroupWeapon('magic sword')\n",
    "weapon3.append(weapon2)\n",
    "weapon3.append(weapon1)"
   ]
  },
  {
   "cell_type": "code",
   "execution_count": 34,
   "metadata": {},
   "outputs": [
    {
     "data": {
      "text/plain": [
       "37"
      ]
     },
     "execution_count": 34,
     "metadata": {},
     "output_type": "execute_result"
    }
   ],
   "source": [
    "weapon3.attack"
   ]
  },
  {
   "cell_type": "markdown",
   "metadata": {},
   "source": [
    "## Bridge\n",
    "\n",
    "* Races: Human, Undead, Elf, Drawf, Demon\n",
    "\n",
    "* Units: Archer, Rider, Soldier, Wizard, Assisin\n",
    "\n",
    "\n"
   ]
  },
  {
   "cell_type": "code",
   "execution_count": 35,
   "metadata": {},
   "outputs": [],
   "source": [
    "class Race:\n",
    "    def __init__(self, name):\n",
    "        pass\n",
    "    \n",
    "class Unit:\n",
    "    def __init__(self, name):\n",
    "        pass\n",
    "        "
   ]
  },
  {
   "cell_type": "code",
   "execution_count": null,
   "metadata": {},
   "outputs": [],
   "source": []
  }
 ],
 "metadata": {
  "kernelspec": {
   "display_name": "Python 3",
   "language": "python",
   "name": "python3"
  },
  "language_info": {
   "codemirror_mode": {
    "name": "ipython",
    "version": 3
   },
   "file_extension": ".py",
   "mimetype": "text/x-python",
   "name": "python",
   "nbconvert_exporter": "python",
   "pygments_lexer": "ipython3",
   "version": "3.8.5"
  }
 },
 "nbformat": 4,
 "nbformat_minor": 4
}
