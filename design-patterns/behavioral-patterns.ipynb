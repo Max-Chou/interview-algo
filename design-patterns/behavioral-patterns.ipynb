{
 "cells": [
  {
   "cell_type": "markdown",
   "metadata": {},
   "source": [
    "# Behavioral Patterns\n",
    "\n",
    "* Encapsulating behaviors into an object\n",
    "    * Strategy pattern(Similar to Abstract Factory)\n",
    "    \n",
    "    * Command pattern\n",
    "    \n",
    "    * State pattern\n",
    "    \n",
    "    * Visitor pattern\n",
    "    \n",
    "    * Iterator pattern\n",
    "\n",
    "* Relationship and Dependency\n",
    "    * Mediator pattern\n",
    "    \n",
    "    * Observer pattern\n",
    "\n",
    "\n",
    "* Template pattern\n",
    "    * similar to factory pattern\n",
    "\n",
    "* Interpreter pattern\n",
    "\n",
    "* Chain of Responsibility\n",
    "\n",
    "* Memento pattern"
   ]
  },
  {
   "cell_type": "code",
   "execution_count": null,
   "metadata": {},
   "outputs": [],
   "source": []
  }
 ],
 "metadata": {
  "kernelspec": {
   "display_name": "Python 3",
   "language": "python",
   "name": "python3"
  },
  "language_info": {
   "codemirror_mode": {
    "name": "ipython",
    "version": 3
   },
   "file_extension": ".py",
   "mimetype": "text/x-python",
   "name": "python",
   "nbconvert_exporter": "python",
   "pygments_lexer": "ipython3",
   "version": "3.8.5"
  }
 },
 "nbformat": 4,
 "nbformat_minor": 4
}
