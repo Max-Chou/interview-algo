{
 "cells": [
  {
   "cell_type": "markdown",
   "metadata": {},
   "source": [
    "# Visitor\n",
    "\n",
    "Represent an operation to be performed on the elements of an object structure."
   ]
  },
  {
   "cell_type": "markdown",
   "metadata": {},
   "source": [
    "## Example 1"
   ]
  },
  {
   "cell_type": "code",
   "execution_count": 1,
   "metadata": {},
   "outputs": [],
   "source": [
    "class Building:\n",
    "    def __init__(self, name):\n",
    "        self.name = name\n",
    "\n",
    "    def accept(self, visitor):\n",
    "        pass\n",
    "\n",
    "class Mine(Building):\n",
    "    def __init__(self):\n",
    "        self.ore = 5000\n",
    "    \n",
    "    def accept(self, visitor):\n",
    "        visitor.mine(self)\n",
    "\n",
    "class Farm(Building):\n",
    "    \n",
    "    def __init__(self):\n",
    "        self.wheat = 5000\n",
    "    \n",
    "    def accept(self, visitor):\n",
    "        visitor.harvest(self)\n",
    "\n",
    "\n",
    "\n",
    "class Visitor:\n",
    "    def mine(self, building):\n",
    "        pass\n",
    "    \n",
    "    def harvest(self, building):\n",
    "        pass\n",
    "    \n",
    "\n",
    "class Miner(Visitor):\n",
    "    def __init__(self):\n",
    "        self.ore = 0\n",
    "    \n",
    "    def mine(self, building):\n",
    "        building.ore -= 100\n",
    "        self.ore += 100\n",
    "\n",
    "class Farmer(Visitor):\n",
    "    def __init__(self):\n",
    "        self.wheat = 0\n",
    "        \n",
    "    def harvest(self, building):\n",
    "        building.wheat -= 100\n",
    "        self.wheat += 100\n",
    "    \n",
    "        "
   ]
  },
  {
   "cell_type": "code",
   "execution_count": 6,
   "metadata": {},
   "outputs": [],
   "source": [
    "buildings = [\n",
    "    Mine(), Mine(), Farm()\n",
    "]\n",
    "\n",
    "miner = Miner()\n",
    "\n",
    "farmer = Farmer()\n",
    "\n",
    "for building in buildings:\n",
    "    building.accept(miner)\n",
    "    building.accept(farmer)\n",
    "    "
   ]
  },
  {
   "cell_type": "code",
   "execution_count": 7,
   "metadata": {},
   "outputs": [
    {
     "data": {
      "text/plain": [
       "200"
      ]
     },
     "execution_count": 7,
     "metadata": {},
     "output_type": "execute_result"
    }
   ],
   "source": [
    "miner.ore"
   ]
  },
  {
   "cell_type": "code",
   "execution_count": 8,
   "metadata": {},
   "outputs": [
    {
     "data": {
      "text/plain": [
       "100"
      ]
     },
     "execution_count": 8,
     "metadata": {},
     "output_type": "execute_result"
    }
   ],
   "source": [
    "farmer.wheat"
   ]
  },
  {
   "cell_type": "code",
   "execution_count": null,
   "metadata": {},
   "outputs": [],
   "source": []
  }
 ],
 "metadata": {
  "kernelspec": {
   "display_name": "Python 3",
   "language": "python",
   "name": "python3"
  },
  "language_info": {
   "codemirror_mode": {
    "name": "ipython",
    "version": 3
   },
   "file_extension": ".py",
   "mimetype": "text/x-python",
   "name": "python",
   "nbconvert_exporter": "python",
   "pygments_lexer": "ipython3",
   "version": "3.8.5"
  }
 },
 "nbformat": 4,
 "nbformat_minor": 4
}
