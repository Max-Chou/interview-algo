{
 "cells": [
  {
   "cell_type": "markdown",
   "metadata": {},
   "source": [
    "# Mediator\n",
    "\n",
    "An object that encapsulates how a set of objects interact."
   ]
  },
  {
   "cell_type": "markdown",
   "metadata": {},
   "source": [
    "## Example 1\n",
    "\n",
    "Chat Room"
   ]
  },
  {
   "cell_type": "code",
   "execution_count": 12,
   "metadata": {},
   "outputs": [],
   "source": [
    "class Player:\n",
    "    def __init__(self, name):\n",
    "        self.name = name\n",
    "        self.chat_log = []\n",
    "        self.room = None\n",
    "    \n",
    "    def receive(self, sender, message):\n",
    "        s = f'{sender}: {message}'\n",
    "        print(f'[{self.name}\\'s chat session] {s}')\n",
    "        self.chat_log.append(s)\n",
    "        \n",
    "    def talk(self, message):\n",
    "        self.room.broadcast(self.name, message)\n",
    "\n",
    "    def private_message(self, receiver, message):\n",
    "        self.room.message(self.name, receiver, message)\n",
    "    \n",
    "        \n",
    "class ChatRoom:\n",
    "    def __init__(self):\n",
    "        self.players = []\n",
    "        \n",
    "    def join(self, player):\n",
    "        join_msg = f'{player.name} joins the room'\n",
    "        self.broadcast('room', join_msg)\n",
    "        player.room = self\n",
    "        self.players.append(player)\n",
    "    \n",
    "    def broadcast(self, source, message):\n",
    "        for p in self.players:\n",
    "            if p.name != source:\n",
    "                p.receive(source, message)\n",
    "    \n",
    "    def message(self, source, destination, message):\n",
    "        for p in self.players:\n",
    "            if p.name == destination:\n",
    "                p.receive(source, message)\n",
    "    "
   ]
  },
  {
   "cell_type": "code",
   "execution_count": 13,
   "metadata": {},
   "outputs": [
    {
     "name": "stdout",
     "output_type": "stream",
     "text": [
      "[John's chat session] room: Jane joins the room\n",
      "[Jane's chat session] John: trash talking\n",
      "[John's chat session] room: Mike joins the room\n",
      "[Jane's chat session] room: Mike joins the room\n",
      "[John's chat session] Mike: Give me your watch!\n"
     ]
    }
   ],
   "source": [
    "room = ChatRoom()\n",
    "\n",
    "john = Player('John')\n",
    "jane = Player('Jane')\n",
    "\n",
    "room.join(john)\n",
    "room.join(jane)\n",
    "\n",
    "john.talk('trash talking')\n",
    "\n",
    "mike = Player('Mike')\n",
    "room.join(mike)\n",
    "\n",
    "mike.private_message('John', 'Give me your watch!')"
   ]
  },
  {
   "cell_type": "markdown",
   "metadata": {},
   "source": [
    "## Example 2"
   ]
  },
  {
   "cell_type": "code",
   "execution_count": null,
   "metadata": {},
   "outputs": [],
   "source": []
  }
 ],
 "metadata": {
  "kernelspec": {
   "display_name": "Python 3",
   "language": "python",
   "name": "python3"
  },
  "language_info": {
   "codemirror_mode": {
    "name": "ipython",
    "version": 3
   },
   "file_extension": ".py",
   "mimetype": "text/x-python",
   "name": "python",
   "nbconvert_exporter": "python",
   "pygments_lexer": "ipython3",
   "version": "3.8.5"
  }
 },
 "nbformat": 4,
 "nbformat_minor": 4
}
