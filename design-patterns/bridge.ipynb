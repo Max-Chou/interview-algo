{
 "cells": [
  {
   "cell_type": "markdown",
   "metadata": {},
   "source": [
    "# Bridge\n",
    "\n",
    "decouple an interface from an implementation."
   ]
  },
  {
   "cell_type": "markdown",
   "metadata": {},
   "source": [
    "## Example 1\n",
    "\n",
    "Design a RPG game. Suppose we have three races and three units."
   ]
  },
  {
   "cell_type": "markdown",
   "metadata": {},
   "source": [
    "### without bridge patterns\n",
    "\n",
    "You'll have 3 X 3 = 9 units."
   ]
  },
  {
   "cell_type": "code",
   "execution_count": 8,
   "metadata": {},
   "outputs": [],
   "source": [
    "class Race:\n",
    "    _resistant = {\n",
    "        'arcane': 0,\n",
    "        'blade': 0,\n",
    "        'cold': 0,\n",
    "        'fire': 0,\n",
    "        'impact': 0,\n",
    "        'pierce': 0,\n",
    "    }\n",
    "    \n",
    "    def __init__(self, name):\n",
    "        self.name = name\n",
    "        \n",
    "class Human(Race):\n",
    "    def __init__(self, name):\n",
    "        super().__init__(name)\n",
    "    \n",
    "\n",
    "class Elf(Race):\n",
    "    def __init__(self, name):\n",
    "        super().__init__(name)\n",
    "\n",
    "class Undead(Race):\n",
    "    _resistant = {\n",
    "        'arcane': -0.5,\n",
    "        'blade': 0.2,\n",
    "        'cold': 0.5,\n",
    "        'fire': -0.5,\n",
    "        'impact': 0.3,\n",
    "        'pierce': 0.4,\n",
    "    }\n",
    "    def __init__(self, name):\n",
    "        super().__init__(name)\n",
    "\n",
    "class HumanFighter(Human):\n",
    "    pass\n",
    "\n",
    "class ElfFighter(Elf):\n",
    "    pass\n",
    "\n",
    "class HumanArcher(Human):\n",
    "    pass\n",
    "\n",
    "class ElfArcher(Elf):\n",
    "    pass"
   ]
  },
  {
   "cell_type": "markdown",
   "metadata": {},
   "source": [
    "### using bridge patterns"
   ]
  },
  {
   "cell_type": "code",
   "execution_count": 23,
   "metadata": {},
   "outputs": [],
   "source": [
    "class Unit:\n",
    "    def __init__(self, race):\n",
    "        self.race = race\n",
    "        \n",
    "    def attack(self):\n",
    "        pass\n",
    "    \n",
    "    def defence(self):\n",
    "        pass\n",
    "\n",
    "class Fighter(Unit):\n",
    "    def __init__(self, race):\n",
    "        super().__init__(race)\n",
    "\n",
    "    def attack(self):\n",
    "        return ('blade', 10)\n",
    "    \n",
    "    def defence(self, attack):\n",
    "        return (1.0-self.race._resistant[attack[0]])*attack[1]\n",
    "    \n",
    "class Archer(Unit):\n",
    "    def __init__(self, race):\n",
    "        super().__init__(race)\n",
    "    \n",
    "    def attack(self):\n",
    "        return ('pierce', 8)\n",
    "    \n",
    "    def defence(self, attack):\n",
    "        return (1.0-self.race._resistant[attack[0]])*attack[1]\n",
    "    "
   ]
  },
  {
   "cell_type": "code",
   "execution_count": 27,
   "metadata": {},
   "outputs": [],
   "source": [
    "john = Fighter(Undead('john'))"
   ]
  },
  {
   "cell_type": "code",
   "execution_count": 28,
   "metadata": {},
   "outputs": [
    {
     "data": {
      "text/plain": [
       "('blade', 10)"
      ]
     },
     "execution_count": 28,
     "metadata": {},
     "output_type": "execute_result"
    }
   ],
   "source": [
    "john.attack()"
   ]
  },
  {
   "cell_type": "code",
   "execution_count": 29,
   "metadata": {},
   "outputs": [
    {
     "data": {
      "text/plain": [
       "8.0"
      ]
     },
     "execution_count": 29,
     "metadata": {},
     "output_type": "execute_result"
    }
   ],
   "source": [
    "john.defence(('blade', 10))"
   ]
  },
  {
   "cell_type": "markdown",
   "metadata": {},
   "source": [
    "### Multiple Inheritance\n",
    "\n",
    "Some programming languages don't allow multiple inheritance, so you have to use composition."
   ]
  },
  {
   "cell_type": "code",
   "execution_count": 30,
   "metadata": {},
   "outputs": [],
   "source": [
    "class HumanFighter(Human, Fighter):\n",
    "    pass"
   ]
  },
  {
   "cell_type": "code",
   "execution_count": null,
   "metadata": {},
   "outputs": [],
   "source": []
  }
 ],
 "metadata": {
  "kernelspec": {
   "display_name": "Python 3",
   "language": "python",
   "name": "python3"
  },
  "language_info": {
   "codemirror_mode": {
    "name": "ipython",
    "version": 3
   },
   "file_extension": ".py",
   "mimetype": "text/x-python",
   "name": "python",
   "nbconvert_exporter": "python",
   "pygments_lexer": "ipython3",
   "version": "3.8.5"
  }
 },
 "nbformat": 4,
 "nbformat_minor": 4
}
