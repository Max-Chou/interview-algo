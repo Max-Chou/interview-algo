{
 "cells": [
  {
   "cell_type": "markdown",
   "metadata": {},
   "source": [
    "# Builder Pattern\n",
    "\n",
    "* piecewise object creation"
   ]
  },
  {
   "cell_type": "markdown",
   "metadata": {},
   "source": [
    "## Example 1\n",
    "\n",
    "\n",
    "\n"
   ]
  },
  {
   "cell_type": "code",
   "execution_count": 13,
   "metadata": {},
   "outputs": [],
   "source": [
    "class Player:\n",
    "    def __init__(self):\n",
    "        self.name = \"\"\n",
    "        self.weapon = None\n",
    "        self.armor = None\n",
    "        self.potions = []\n",
    "        self.gold = 0\n",
    "        \n",
    "    def __str__(self):\n",
    "        return f\"{self.name} equips with {self.weapon} and {self.armor}, and has {self.gold} and {self.potions}\"\n",
    "\n",
    "class PlayerBuilder:\n",
    "    def __init__(self, player=Player()):\n",
    "        self.player = player\n",
    "        \n",
    "    @property\n",
    "    def weapon(self):\n",
    "        return PlayerWeaponBuilder(self.player)\n",
    "    \n",
    "    @property\n",
    "    def armor(self):\n",
    "        return PlayerArmorBuilder(self.player)\n",
    "    \n",
    "    @property\n",
    "    def potions(self):\n",
    "        return PlayerPotionsBuilder(self.player)\n",
    "    \n",
    "    def called(self, name):\n",
    "        self.player.name = name\n",
    "        return self\n",
    "    \n",
    "    def has_gold(self, gold):\n",
    "        self.player.gold = gold\n",
    "        return self\n",
    "    \n",
    "    \n",
    "    def build(self):\n",
    "        return self.player\n",
    "    \n",
    "class PlayerWeaponBuilder(PlayerBuilder):\n",
    "    def __init__(self, player):\n",
    "        super().__init__(player)\n",
    "    \n",
    "    def equip(self, weapon):\n",
    "        self.player.weapon = weapon\n",
    "        return self\n",
    "        \n",
    "class PlayerArmorBuilder(PlayerBuilder):\n",
    "    def __init__(self, player):\n",
    "        super().__init__(player)\n",
    "        \n",
    "    def equip(self, armor):\n",
    "        self.player.armor = armor\n",
    "        return self\n",
    "\n",
    "class PlayerPotionsBuilder(PlayerBuilder):\n",
    "    def __init__(self, player):\n",
    "        super().__init__(player)\n",
    "    \n",
    "    def add(self, potion):\n",
    "        self.player.potions.append(potion)\n",
    "        return self\n",
    "\n",
    "        \n",
    "    "
   ]
  },
  {
   "cell_type": "code",
   "execution_count": 14,
   "metadata": {},
   "outputs": [
    {
     "name": "stdout",
     "output_type": "stream",
     "text": [
      "john equips with sword and shield, and has 100 and ['herb']\n"
     ]
    }
   ],
   "source": [
    "john = PlayerBuilder().called('john').has_gold(100).weapon.equip('sword').armor.equip('shield').potions.add('herb').build()\n",
    "print(john)"
   ]
  },
  {
   "cell_type": "markdown",
   "metadata": {},
   "source": [
    "## Example 2\n",
    "\n",
    "Simple Person builder."
   ]
  },
  {
   "cell_type": "code",
   "execution_count": 5,
   "metadata": {},
   "outputs": [],
   "source": [
    "class Person:\n",
    "    def __init__(self):\n",
    "        \n",
    "        # address\n",
    "        self.street_address = None\n",
    "        self.postcode = None\n",
    "        self.city = None\n",
    "        \n",
    "        # employment\n",
    "        self.company_name = None\n",
    "        self.position = None\n",
    "        self.annual_income = None\n",
    "    \n",
    "    def __str__(self):\n",
    "        return f'Address: {self.street_address}, {self.postcode}, {self.city}\\n' +\\\n",
    "            f'Employed at {self.company_name} as a {self.postcode} earning {self.annual_income}'\n",
    "\n",
    "class PersonBuilder:\n",
    "    def __init__(self, person=Person()):\n",
    "        self.person = person\n",
    "    \n",
    "    @property\n",
    "    def works(self):\n",
    "        return PersonJobBuilder(self.person)\n",
    "    \n",
    "    @property\n",
    "    def lives(self):\n",
    "        return PersonAddressBuilder(self.person)\n",
    "    \n",
    "    def build(self):\n",
    "        return self.person\n",
    "\n",
    "class PersonJobBuilder(PersonBuilder):\n",
    "    def __init__(self, person):\n",
    "        super().__init__(person)\n",
    "    \n",
    "    def at(self, company_name):\n",
    "        self.person.company_name = company_name\n",
    "        return self\n",
    "\n",
    "    def as_a(self, position):\n",
    "        self.person.position = position\n",
    "        return self\n",
    "    \n",
    "    def earning(self, annual_income):\n",
    "        self.person.annual_income = annual_income\n",
    "        return self\n",
    "\n",
    "class PersonAddressBuilder(PersonBuilder):\n",
    "    def __init__(self, person):\n",
    "        super().__init__(person)\n",
    "\n",
    "    def at(self, street_address):\n",
    "        self.person.street_address = street_address\n",
    "        return self\n",
    "    \n",
    "    def with_postcode(self, postcode):\n",
    "        self.person.postcode = postcode\n",
    "        return self\n",
    "    \n",
    "    def in_city(self, city):\n",
    "        self.person.city = city\n",
    "        return self\n"
   ]
  },
  {
   "cell_type": "code",
   "execution_count": 7,
   "metadata": {},
   "outputs": [
    {
     "name": "stdout",
     "output_type": "stream",
     "text": [
      "Address: Dumb 1st Road, 12345, Dumb City\n",
      "Employed at Dumb Company as a 12345 earning 100000\n"
     ]
    }
   ],
   "source": [
    "pb = PersonBuilder()\n",
    "person = pb.lives.at('Dumb 1st Road').in_city('Dumb City').with_postcode('12345')\\\n",
    "    .works.at('Dumb Company').as_a('Dumb Developer').earning(100000).build()\n",
    "print(person)"
   ]
  },
  {
   "cell_type": "markdown",
   "metadata": {},
   "source": [
    "### Inheritance"
   ]
  },
  {
   "cell_type": "code",
   "execution_count": null,
   "metadata": {},
   "outputs": [],
   "source": []
  },
  {
   "cell_type": "markdown",
   "metadata": {},
   "source": [
    "## Example 3\n",
    "\n",
    "SQL Select Query Builder."
   ]
  },
  {
   "cell_type": "code",
   "execution_count": null,
   "metadata": {},
   "outputs": [],
   "source": [
    "\n"
   ]
  },
  {
   "cell_type": "markdown",
   "metadata": {},
   "source": [
    "## Example 4\n",
    "\n",
    "HTML Builder\n",
    "\n",
    "* TagNode\n",
    "* TagNodeBuilder\n",
    "\n",
    "* TextNode\n",
    "\n",
    "* DOMTree(Builder)\n"
   ]
  },
  {
   "cell_type": "code",
   "execution_count": null,
   "metadata": {},
   "outputs": [],
   "source": [
    "class TagNode:\n",
    "    def __init__(self, tag, **kwargs):\n",
    "        self.tag = tag\n",
    "        self.attributes = dict(kwargs)\n",
    "        self.children = list()\n",
    "    \n",
    "    def add_child(self, node):\n",
    "        self.children.append(node)\n",
    "        return self\n",
    "        \n",
    "    def add_attribute(self. key, value):\n",
    "        self.attributes[key] = value\n",
    "        return self\n",
    "    \n",
    "    def __str__(self):\n",
    "        open_tag = \"<{} {key}={value}>\".format(self.tag, self.attributes)\n",
    "        close_tag = \"</{}>\".format(self.tag)\n",
    "        \n",
    "        contents = \"\"\n",
    "        for child in children:\n",
    "            contents += str(child)\n",
    "        return \"{} {} {}\".format(open_tag, contents, close_tag)\n",
    "\n",
    "class TextNode:\n",
    "    def __init__(self, content):\n",
    "        self.content = content\n",
    "\n",
    "    def __str__(self):\n",
    "        return self.content\n",
    "\n",
    "class DOMBuilder:\n",
    "    def __init__(self):\n",
    "        self.root = TagNode('html')\n",
    "        \n",
    "    def __str__(self):\n",
    "        return str(self.root)\n",
    "\n",
    "    "
   ]
  },
  {
   "cell_type": "markdown",
   "metadata": {},
   "source": [
    "## Example 5\n",
    "\n",
    "Request Builder\n",
    "\n",
    "* Request \n",
    "* RequestBuilder\n",
    "* RequestHeaderBuilder\n",
    "* RequestCookieBuilder\n",
    "* ..."
   ]
  },
  {
   "cell_type": "markdown",
   "metadata": {},
   "source": [
    "## Example 6\n",
    "\n",
    "Response Builder"
   ]
  },
  {
   "cell_type": "code",
   "execution_count": null,
   "metadata": {},
   "outputs": [],
   "source": []
  }
 ],
 "metadata": {
  "kernelspec": {
   "display_name": "Python 3",
   "language": "python",
   "name": "python3"
  },
  "language_info": {
   "codemirror_mode": {
    "name": "ipython",
    "version": 3
   },
   "file_extension": ".py",
   "mimetype": "text/x-python",
   "name": "python",
   "nbconvert_exporter": "python",
   "pygments_lexer": "ipython3",
   "version": "3.8.5"
  }
 },
 "nbformat": 4,
 "nbformat_minor": 4
}
