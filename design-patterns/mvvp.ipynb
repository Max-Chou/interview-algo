{
 "cells": [
  {
   "cell_type": "markdown",
   "metadata": {},
   "source": [
    "# Model View ViewModel\n",
    "\n",
    "* Model\n",
    "* View\n",
    "* ViewModel\n",
    "\n",
    "\n",
    "ViewModel binds the element of the model and the element of the view together... The element of the model is just a field or attribute and the element of the view is just a HTML element."
   ]
  },
  {
   "cell_type": "code",
   "execution_count": null,
   "metadata": {},
   "outputs": [],
   "source": [
    "class Event(list):\n",
    "    def __call__(self, *args, **kwargs):\n",
    "        for event in self:\n",
    "            event(*args, **kwargs)\n",
    "\n",
    "class Model:\n",
    "    def __init__(self):\n",
    "        self._name = None\n",
    "        self.events = Event()\n",
    "\n",
    "    @property\n",
    "    def name(self):\n",
    "        return self._name\n",
    "\n",
    "    @name.setter\n",
    "    def name(self, value):\n",
    "        self._name = value\n",
    "        for event in self.events:\n",
    "            event('name', value)\n",
    "\n",
    "class ViewModel:\n",
    "    \n",
    "    def bind(self, element, attr):\n",
    "        pass\n",
    "    \n",
    "class View:\n",
    "    pass"
   ]
  }
 ],
 "metadata": {
  "kernelspec": {
   "display_name": "Python 3",
   "language": "python",
   "name": "python3"
  },
  "language_info": {
   "codemirror_mode": {
    "name": "ipython",
    "version": 3
   },
   "file_extension": ".py",
   "mimetype": "text/x-python",
   "name": "python",
   "nbconvert_exporter": "python",
   "pygments_lexer": "ipython3",
   "version": "3.8.5"
  }
 },
 "nbformat": 4,
 "nbformat_minor": 4
}
