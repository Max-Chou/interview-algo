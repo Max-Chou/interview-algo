{
 "cells": [
  {
   "cell_type": "markdown",
   "metadata": {},
   "source": [
    "# Flyweight\n",
    "\n",
    "space optimization technique"
   ]
  },
  {
   "cell_type": "markdown",
   "metadata": {},
   "source": [
    "## Example 1\n",
    "\n",
    "There are common weapons shared with many players."
   ]
  },
  {
   "cell_type": "code",
   "execution_count": 45,
   "metadata": {},
   "outputs": [],
   "source": [
    "from copy import deepcopy\n",
    "\n",
    "class Weapon:    \n",
    "    def __init__(self, name, attack, price):\n",
    "        self.name = name\n",
    "        self.attack = attack\n",
    "        self.price = price\n",
    "    \n",
    "    def __str__(self):\n",
    "        template = \"\"\"\n",
    "Name          Attack     Price\n",
    "===============================\n",
    "{0:15}{1:5}{2:10}\n",
    "        \"\"\"\n",
    "        return template.format(self.name, self.attack, self.price)\n",
    "\n",
    "class WeaponFactory:\n",
    "    _weapons = {}\n",
    "    \n",
    "    @classmethod\n",
    "    def register_weapon(cls, name, attack, price):\n",
    "        cls._weapons[name] = Weapon(name, attack, price)\n",
    "    \n",
    "    @classmethod\n",
    "    def create_weapon(cls, name):\n",
    "        if name not in cls._weapons:\n",
    "            return None\n",
    "        return cls._weapons[name]\n",
    "    \n",
    "    @classmethod\n",
    "    def create_custom_weapon(cls, name, attack, price):\n",
    "        return Weapon(name, attack, price)"
   ]
  },
  {
   "cell_type": "code",
   "execution_count": 46,
   "metadata": {},
   "outputs": [],
   "source": [
    "WeaponFactory.register_weapon('fist', 2, 0)\n",
    "WeaponFactory.register_weapon('wood sword', 5, 10)\n",
    "WeaponFactory.register_weapon('iron sword', 10, 50)\n",
    "WeaponFactory.register_weapon('gold sword', 15, 100)"
   ]
  },
  {
   "cell_type": "code",
   "execution_count": 51,
   "metadata": {},
   "outputs": [
    {
     "name": "stdout",
     "output_type": "stream",
     "text": [
      "True\n"
     ]
    }
   ],
   "source": [
    "weapon1 = WeaponFactory.create_weapon('wood sword')\n",
    "weapon2 = WeaponFactory.create_weapon('wood sword')\n",
    "print(weapon1 is weapon2)"
   ]
  },
  {
   "cell_type": "code",
   "execution_count": 50,
   "metadata": {},
   "outputs": [
    {
     "name": "stdout",
     "output_type": "stream",
     "text": [
      "\n",
      "Name          Attack     Price\n",
      "===============================\n",
      "wood sword         5        10\n",
      "        \n"
     ]
    }
   ],
   "source": [
    "print(str(weapon2))"
   ]
  },
  {
   "cell_type": "markdown",
   "metadata": {},
   "source": [
    "## Example 2\n",
    "\n",
    "Text Formatting"
   ]
  },
  {
   "cell_type": "code",
   "execution_count": 52,
   "metadata": {},
   "outputs": [],
   "source": [
    "class Character:\n",
    "    def __init__(self, char, s, f, t):\n",
    "        self.char = char\n",
    "        self.s = s\n",
    "        self.f = f\n",
    "        self.t = t\n",
    "\n",
    "    \n",
    "class CharacterGenerator:\n",
    "    _characters = {}\n",
    "    \n",
    "    default_size = 14\n",
    "    default_format = 'New Romans'\n",
    "    default_type = 'None'\n",
    "    \n",
    "    pass\n",
    "\n",
    "\n",
    "class Article:    \n",
    "    default_characterGenerator = CharacterGenerator\n",
    "    \n",
    "    def __init__(self):\n",
    "        self.characters = []\n",
    "        \n",
    "    def append(self, char):\n",
    "        pass\n",
    "\n",
    "    def modify(self, index, s, f):\n",
    "        pass\n",
    "    \n",
    "    def __str__(self):\n",
    "        pass\n"
   ]
  },
  {
   "cell_type": "code",
   "execution_count": null,
   "metadata": {},
   "outputs": [],
   "source": []
  }
 ],
 "metadata": {
  "kernelspec": {
   "display_name": "Python 3",
   "language": "python",
   "name": "python3"
  },
  "language_info": {
   "codemirror_mode": {
    "name": "ipython",
    "version": 3
   },
   "file_extension": ".py",
   "mimetype": "text/x-python",
   "name": "python",
   "nbconvert_exporter": "python",
   "pygments_lexer": "ipython3",
   "version": "3.8.5"
  }
 },
 "nbformat": 4,
 "nbformat_minor": 4
}
