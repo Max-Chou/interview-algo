{
 "cells": [
  {
   "cell_type": "markdown",
   "metadata": {},
   "source": [
    "# Chain of Responsibility\n",
    "\n",
    "Chain of objects who all get a chance to process a command. Procssing or Terminating the command."
   ]
  },
  {
   "cell_type": "markdown",
   "metadata": {},
   "source": [
    "## Example 1"
   ]
  },
  {
   "cell_type": "code",
   "execution_count": 4,
   "metadata": {},
   "outputs": [],
   "source": [
    "class Engineer:\n",
    "    def __init__(self, name, performance, salary, duration, happiness):\n",
    "        self.name = name\n",
    "        self.performance = performance\n",
    "        self.salary = salary\n",
    "        self.duration = duration\n",
    "        self.happiness = happiness\n",
    "    \n",
    "    def __str__(self):\n",
    "        return f\"{self.name} ({self.performance}/{self.salary}/{self.duration}/{self.happiness})\"\n",
    "        \n",
    "        \n",
    "class Policy:\n",
    "    def __init__(self, engineer):\n",
    "        self.engineer = engineer\n",
    "        self.next_policy = None\n",
    "        \n",
    "    def add_policy(self, policy):\n",
    "        if self.next_policy:\n",
    "            self.next_policy.add_policy(policy)\n",
    "        else:\n",
    "            self.next_policy = policy\n",
    "    \n",
    "    def handle(self):\n",
    "        if self.next_policy:\n",
    "            self.next_policy.handle()\n",
    "\n",
    "class OvertimePolicy(Policy):\n",
    "    def handle(self):\n",
    "        print(\"Increase one hour working time.\")\n",
    "        self.engineer.performance *= 1.2\n",
    "        self.engineer.duration *= 0.9\n",
    "        self.engineer.happiness *= 0.9\n",
    "        super().handle()\n",
    "\n",
    "class RaisePolicy(Policy):\n",
    "    def handle(self):\n",
    "        print(\"Raise Salary!\")\n",
    "        self.engineer.performance *= 1.3\n",
    "        self.engineer.salary *= 1.05\n",
    "        self.engineer.duration *= 1.1\n",
    "        self.engineer.happiness *= 1.1\n",
    "        super().handle()\n",
    "\n",
    "class NoPolicy(Policy):\n",
    "    def handle(self):\n",
    "        pass"
   ]
  },
  {
   "cell_type": "code",
   "execution_count": 6,
   "metadata": {},
   "outputs": [
    {
     "name": "stdout",
     "output_type": "stream",
     "text": [
      "Raise Salary!\n",
      "Increase one hour working time.\n",
      "John (156.0/105.0/99.00000000000001/99.00000000000001)\n"
     ]
    }
   ],
   "source": [
    "john = Engineer('John', 100, 100, 100, 100)\n",
    "\n",
    "root = Policy(john)\n",
    "#root.add_policy(NoPolicy(john))\n",
    "root.add_policy(RaisePolicy(john))\n",
    "root.add_policy(OvertimePolicy(john))\n",
    "root.handle()\n",
    "print(john)\n"
   ]
  },
  {
   "cell_type": "code",
   "execution_count": 3,
   "metadata": {},
   "outputs": [
    {
     "name": "stdout",
     "output_type": "stream",
     "text": [
      "Increase one hour working time.\n",
      "John (144.0/100/81.0/81.0)\n"
     ]
    }
   ],
   "source": [
    "root.handle()\n",
    "print(john)"
   ]
  },
  {
   "cell_type": "markdown",
   "metadata": {},
   "source": [
    "## Example 2\n",
    "\n",
    "event broker (observer)"
   ]
  },
  {
   "cell_type": "code",
   "execution_count": 24,
   "metadata": {},
   "outputs": [],
   "source": [
    "from enum import Enum\n",
    "\n",
    "class Event(list):\n",
    "    def __call__(self, *args, **kwargs):\n",
    "        for event in self:\n",
    "            event(*args, **kwargs)\n",
    "\n",
    "class Action(Enum):\n",
    "    ATTACK = 1\n",
    "    DEFENSE = 2\n",
    "\n",
    "    \n",
    "class Query:\n",
    "    def __init__(self, name, action, value):\n",
    "        self.value = value\n",
    "        self.action = action\n",
    "        self.name = name\n",
    "\n",
    "class Booster:\n",
    "    def __init__(self, battle, monster):\n",
    "        self.monster = monster\n",
    "        self.battle = battle\n",
    "        self.battle.queries.append(self.handle)\n",
    "    \n",
    "    def handle(self, sender, query):\n",
    "        pass\n",
    "    \n",
    "    def __enter__(self):\n",
    "        return self\n",
    "    \n",
    "    def __exit__(self, exc_type, exc_val, exc_tb):\n",
    "        self.battle.queries.remove(self.handle)\n",
    "        \n",
    "\n",
    "class AttackBooster(Booster):\n",
    "    def handle(self, sender, query):\n",
    "        if sender.name == self.monster.name and query.action == Action.ATTACK:\n",
    "            query.value *= 2\n",
    "            \n",
    "        \n",
    "            \n",
    "class Battle:\n",
    "    def __init__(self):\n",
    "        self.queries = Event()\n",
    "    \n",
    "    def perform_query(self, sender, query):\n",
    "        self.queries(sender, query)\n",
    "        \n",
    "            \n",
    "class Monster:\n",
    "    def __init__(self, battle, name, attack, defense):\n",
    "        self.name = name\n",
    "        self.basic_attack = attack\n",
    "        self.basic_defense = defense\n",
    "        self.battle = battle\n",
    "    \n",
    "    @property\n",
    "    def attack(self):\n",
    "        q = Query(self.name, Action.ATTACK, self.basic_attack)\n",
    "        self.battle.perform_query(self, q)\n",
    "        return q.value\n",
    "\n",
    "    @property\n",
    "    def defense(self):\n",
    "        q = Query(self.name, Action.DEFENSE, self.basic_defense)\n",
    "        self.battle.perform_query(self, q)\n",
    "        return q.value\n",
    "    \n",
    "    def __str__(self):\n",
    "        return f'{self.name} ({self.attack}/{self.defense})'"
   ]
  },
  {
   "cell_type": "code",
   "execution_count": 25,
   "metadata": {},
   "outputs": [
    {
     "name": "stdout",
     "output_type": "stream",
     "text": [
      "Slim (1/1)\n",
      "Slim (2/1)\n",
      "Slim (1/1)\n"
     ]
    }
   ],
   "source": [
    "battle = Battle()\n",
    "\n",
    "slim = Monster(battle, 'Slim', 1, 1)\n",
    "print(slim)\n",
    "with AttackBooster(battle, slim):\n",
    "    print(slim)\n",
    "\n",
    "print(slim)"
   ]
  },
  {
   "cell_type": "markdown",
   "metadata": {},
   "source": [
    "## Example 3\n",
    "\n",
    "Middleware\n"
   ]
  },
  {
   "cell_type": "code",
   "execution_count": 5,
   "metadata": {},
   "outputs": [],
   "source": [
    "class Request:\n",
    "    def __init__(self, environ):\n",
    "        pass\n",
    "\n",
    "\n",
    "class Middleware:\n",
    "    def __init__(self, app):\n",
    "        self.app = app\n",
    "        \n",
    "    def add_middleware(self, middleware):\n",
    "        self.app = middleware(self.app)\n",
    "    \n",
    "    def process_request(self, request):\n",
    "        pass\n",
    "    \n",
    "    def process_response(self, request, response):\n",
    "        pass\n",
    "    \n",
    "    def handle_requests(request):\n",
    "        self.process_request(request)\n",
    "        response = self.app.handle_requests(request)\n",
    "        self.process_response(request, response)\n",
    "        return response\n",
    "        \n",
    "    def __call__(self, environ, start_response):\n",
    "        request = Request(environ)\n",
    "        response = self.handle_requests(request)\n",
    "        return response(start_response)"
   ]
  },
  {
   "cell_type": "code",
   "execution_count": null,
   "metadata": {},
   "outputs": [],
   "source": []
  }
 ],
 "metadata": {
  "kernelspec": {
   "display_name": "Python 3",
   "language": "python",
   "name": "python3"
  },
  "language_info": {
   "codemirror_mode": {
    "name": "ipython",
    "version": 3
   },
   "file_extension": ".py",
   "mimetype": "text/x-python",
   "name": "python",
   "nbconvert_exporter": "python",
   "pygments_lexer": "ipython3",
   "version": "3.8.5"
  }
 },
 "nbformat": 4,
 "nbformat_minor": 4
}
