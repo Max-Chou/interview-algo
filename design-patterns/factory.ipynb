{
 "cells": [
  {
   "cell_type": "markdown",
   "metadata": {},
   "source": [
    "# Factory Pattern\n",
    "\n",
    "* wholesale object creation (non-piecewise, unlike Builder)\n",
    "\n",
    "* Factory Method\n",
    "\n",
    "* Factory Class\n",
    "\n",
    "* Abstract Factory\n",
    "\n"
   ]
  },
  {
   "cell_type": "markdown",
   "metadata": {},
   "source": [
    "## Factory Method"
   ]
  },
  {
   "cell_type": "code",
   "execution_count": 13,
   "metadata": {},
   "outputs": [],
   "source": [
    "class Player:\n",
    "    def __init__(self):\n",
    "        self.name = \"\"\n",
    "        self.weapon = None\n",
    "        self.armor = None\n",
    "        self.potions = []\n",
    "        self.gold = 0\n",
    "        \n",
    "    def __str__(self):\n",
    "        return f\"{self.name} equips with {self.weapon} and {self.armor}, and has {self.gold} and {self.potions}\"\n",
    "\n",
    "\n",
    "class PlayerCreator:        \n",
    "    def createPlayer(self, name):\n",
    "        player = Player()\n",
    "        player.name = name\n",
    "        player.sword = self.createSword()\n",
    "        player.armor = self.createArmor()\n",
    "        player.gold = self.createGold()\n",
    "        return player\n",
    "    \n",
    "    def createSword(self):\n",
    "        pass\n",
    "    \n",
    "    def createArmor(self):\n",
    "        pass\n",
    "    \n",
    "    def createGold(self):\n",
    "        pass\n",
    "\n",
    "\n",
    "class StrongPlayerCreator(PlayerCreator):\n",
    "    \n",
    "    def createSword(self):\n",
    "        return \"Iron Sword\"\n",
    "    \n",
    "    def createArmor(self):\n",
    "        return \"Iron Shield\"\n",
    "    \n",
    "    def createGold(self):\n",
    "        return 1000\n",
    "    \n",
    "class PoorPlayerCreator(PlayerCreator):\n",
    "    \n",
    "    def createSword(self):\n",
    "        return \"Fist\"\n",
    "    \n",
    "    def createArmor(self):\n",
    "        return \"Skin\"\n",
    "    \n",
    "    def createGold(self):\n",
    "        return 100\n",
    "    "
   ]
  },
  {
   "cell_type": "markdown",
   "metadata": {},
   "source": [
    "## Factory Class"
   ]
  },
  {
   "cell_type": "markdown",
   "metadata": {},
   "source": [
    "## Abstract Factory"
   ]
  },
  {
   "cell_type": "code",
   "execution_count": null,
   "metadata": {},
   "outputs": [],
   "source": []
  }
 ],
 "metadata": {
  "kernelspec": {
   "display_name": "Python 3",
   "language": "python",
   "name": "python3"
  },
  "language_info": {
   "codemirror_mode": {
    "name": "ipython",
    "version": 3
   },
   "file_extension": ".py",
   "mimetype": "text/x-python",
   "name": "python",
   "nbconvert_exporter": "python",
   "pygments_lexer": "ipython3",
   "version": "3.8.5"
  }
 },
 "nbformat": 4,
 "nbformat_minor": 4
}
