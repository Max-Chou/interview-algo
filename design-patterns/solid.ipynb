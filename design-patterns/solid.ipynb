{
 "cells": [
  {
   "cell_type": "markdown",
   "metadata": {},
   "source": [
    "# Single Responsibility Principle\n",
    "\n",
    "Every module/class should only have one responsibility and therefore only one reason to change.\n"
   ]
  },
  {
   "cell_type": "markdown",
   "metadata": {},
   "source": [
    "## Example 1"
   ]
  },
  {
   "cell_type": "code",
   "execution_count": 4,
   "metadata": {},
   "outputs": [],
   "source": [
    "# user data schema\n",
    "class User:\n",
    "    def __init__(self, username, email):\n",
    "        self.username = username\n",
    "        self.email = email\n",
    "    \n",
    "    def __str__(self):\n",
    "        return f\"{self.username} {self.email}\\n\"\n",
    "\n",
    "class UserList:\n",
    "    def __init__(self):\n",
    "        pass\n",
    "    \n",
    "    def add(self, user):\n",
    "        pass\n",
    "\n",
    "# storage \n",
    "class FileStorage:\n",
    "    def __init__(self, filename):\n",
    "        self.filename\n",
    "    \n",
    "    def save(self, obj):\n",
    "        pass\n",
    "    \n",
    "    def load(self, obj):\n",
    "        pass\n",
    "    \n",
    "class DatabaseStorage:\n",
    "    def __init__(self, host, port, username, password, db_name):\n",
    "        pass\n",
    "    \n",
    "    def save(self, obj):\n",
    "        pass\n",
    "    \n",
    "    def load(self, obj):\n",
    "        pass"
   ]
  },
  {
   "cell_type": "markdown",
   "metadata": {},
   "source": [
    "We shouldn't add the save and load method to User or UserList class."
   ]
  },
  {
   "cell_type": "markdown",
   "metadata": {},
   "source": [
    "## Example 2"
   ]
  },
  {
   "cell_type": "code",
   "execution_count": 9,
   "metadata": {},
   "outputs": [],
   "source": [
    "class FileClient:\n",
    "    def upload(self, file:bytes):\n",
    "        pass\n",
    "    \n",
    "    def download(self, target:str):\n",
    "        pass\n",
    "\n",
    "class FTPClient(FileClient):\n",
    "    def __init__(self, host, port):\n",
    "        pass\n",
    "\n",
    "class SFTPClient(FileClient):\n",
    "    def __init__(self, host, port):\n",
    "        pass\n",
    "\n",
    "class S3Client(FileClient):\n",
    "    def __init__(self, host, port):\n",
    "        pass"
   ]
  },
  {
   "cell_type": "markdown",
   "metadata": {},
   "source": [
    "We don't implement the clients of the file server in the same class."
   ]
  },
  {
   "cell_type": "markdown",
   "metadata": {},
   "source": [
    "# Open-Closed Principle\n",
    "\n",
    "Software Entities (classes, functions, modules) should be open for extension but closed to change."
   ]
  },
  {
   "cell_type": "code",
   "execution_count": 6,
   "metadata": {},
   "outputs": [],
   "source": [
    "# our micro application has only routing...\n",
    "class Application:\n",
    "    def __init__(self):\n",
    "        self.routes = dict()\n",
    "        self.config = {\n",
    "            'SECRET_KEY': 'secret',\n",
    "        }\n",
    "    \n",
    "    def __call__(self, environ, start_response):\n",
    "        pass\n",
    "\n",
    "# suppose we want the application to make connection to database and perform SQL statement...\n",
    "class DatabaseExtension:\n",
    "    def __init__(self, app=None):\n",
    "        if app is not None:\n",
    "            self.init_app(app)\n",
    "    \n",
    "    def init_app(self, app):\n",
    "        pass\n",
    "\n"
   ]
  },
  {
   "cell_type": "markdown",
   "metadata": {},
   "source": [
    "We could use inheritance or composition to extend the applications."
   ]
  },
  {
   "cell_type": "markdown",
   "metadata": {},
   "source": [
    "# Liskov Substitution Principle\n",
    "\n",
    "If S is a subtype of T, then objects of type T may be replaced with objects of Type S."
   ]
  },
  {
   "cell_type": "code",
   "execution_count": 1,
   "metadata": {},
   "outputs": [],
   "source": [
    "class FTPClient:\n",
    "    def __init__(self, host, port):\n",
    "        self.host = host\n",
    "        self.port = port\n",
    "    \n",
    "    def upload(self, file: bytes):\n",
    "        pass\n",
    "    \n",
    "    def download(self, target: str) -> bytes:\n",
    "        pass\n",
    "\n",
    "class FTPSClient(FTPClient):\n",
    "    def __init__(self, host, port, username, password):\n",
    "        pass\n",
    "    "
   ]
  },
  {
   "cell_type": "markdown",
   "metadata": {},
   "source": [
    "FTP and FTPS share the same methods by inheritance."
   ]
  },
  {
   "cell_type": "markdown",
   "metadata": {},
   "source": [
    "# Interface Segregation Principle\n",
    "\n",
    "A client should not depend on methods it does not use."
   ]
  },
  {
   "cell_type": "code",
   "execution_count": 4,
   "metadata": {},
   "outputs": [],
   "source": [
    "from abc import ABC\n",
    "from typing import List\n",
    "\n",
    "class FileTransferClient(ABC):\n",
    "    def upload(self, file:bytes):\n",
    "        pass\n",
    "    \n",
    "    def download(self, target:str) -> bytes:\n",
    "        pass\n",
    "\n",
    "class BulkFileTransferClient(ABC):\n",
    "    def upload_bulk(self, files:List[bytes]):\n",
    "        pass\n",
    "    \n",
    "    def download_bulk(self, files:List[bytes]):\n",
    "        pass"
   ]
  },
  {
   "cell_type": "code",
   "execution_count": 6,
   "metadata": {},
   "outputs": [],
   "source": [
    "class FTPClient(FileTransferClient, BulkFileTransferClient):\n",
    "    pass\n",
    "\n",
    "class S3Client(FileTransferClient):\n",
    "    pass"
   ]
  },
  {
   "cell_type": "markdown",
   "metadata": {},
   "source": [
    "There is no interface in Python, but the object can inherit from multiple classes and use their interfaces."
   ]
  },
  {
   "cell_type": "markdown",
   "metadata": {},
   "source": [
    "# Dependency Inversion Principle\n",
    "High-level modules should not depend on low-level modules. They should depend on abstractions and abstractions should not depend on details, rather details should depend on abstractions."
   ]
  },
  {
   "cell_type": "code",
   "execution_count": 7,
   "metadata": {},
   "outputs": [],
   "source": [
    "def exchange(client: FileTransferClient, to_uploads:bytes, to_download:str) -> bytes:\n",
    "    client.upload(to_upload)\n",
    "    return client.download(to_download)"
   ]
  },
  {
   "cell_type": "markdown",
   "metadata": {},
   "source": [
    "The FileTransferClient is the abstraction."
   ]
  },
  {
   "cell_type": "code",
   "execution_count": null,
   "metadata": {},
   "outputs": [],
   "source": []
  }
 ],
 "metadata": {
  "kernelspec": {
   "display_name": "Python 3",
   "language": "python",
   "name": "python3"
  },
  "language_info": {
   "codemirror_mode": {
    "name": "ipython",
    "version": 3
   },
   "file_extension": ".py",
   "mimetype": "text/x-python",
   "name": "python",
   "nbconvert_exporter": "python",
   "pygments_lexer": "ipython3",
   "version": "3.8.5"
  }
 },
 "nbformat": 4,
 "nbformat_minor": 4
}
