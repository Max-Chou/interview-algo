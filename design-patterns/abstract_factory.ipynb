{
 "cells": [
  {
   "cell_type": "markdown",
   "metadata": {},
   "source": [
    "# Abstract Factory"
   ]
  },
  {
   "cell_type": "markdown",
   "metadata": {},
   "source": [
    "## Example 1"
   ]
  },
  {
   "cell_type": "code",
   "execution_count": 8,
   "metadata": {},
   "outputs": [],
   "source": [
    "class Player:\n",
    "    def __init__(self):\n",
    "        self.name = None\n",
    "        self.sword = None\n",
    "        self.armor = None\n",
    "        self.gold = None\n",
    "\n",
    "    def __str__(self):\n",
    "        return f\"{self.name} has {self.sword} and {self.armor}.\"\n",
    "\n",
    "class PlayerCreator:\n",
    "    def createPlayer(self, name, factory):\n",
    "        player = Player()\n",
    "        player.name = name\n",
    "        player.sword = factory.createSword()\n",
    "        player.armor = factory.createArmor()\n",
    "        player.gold = factory.createGold()\n",
    "        \n",
    "        return player\n",
    "\n",
    "class PlayerFactory:\n",
    "    @classmethod\n",
    "    def createSword(cls):\n",
    "        return \"Wood Sword\"\n",
    "    \n",
    "    @classmethod\n",
    "    def createArmor(cls):\n",
    "        return \"Wood Armor\"\n",
    "    \n",
    "    @classmethod\n",
    "    def createGold(cls):\n",
    "        return 100\n",
    "\n",
    "class StrongPlayerFactory(PlayerFactory):\n",
    "    @classmethod\n",
    "    def createSword(cls):\n",
    "        return \"Iron Sword\"\n",
    "    \n",
    "    @classmethod\n",
    "    def createArmor(cls):\n",
    "        return \"Iron Armor\"\n"
   ]
  },
  {
   "cell_type": "markdown",
   "metadata": {},
   "source": [
    "## Example 2"
   ]
  },
  {
   "cell_type": "code",
   "execution_count": 4,
   "metadata": {},
   "outputs": [],
   "source": [
    "\n",
    "\n",
    "        "
   ]
  },
  {
   "cell_type": "code",
   "execution_count": null,
   "metadata": {},
   "outputs": [],
   "source": []
  }
 ],
 "metadata": {
  "kernelspec": {
   "display_name": "Python 3",
   "language": "python",
   "name": "python3"
  },
  "language_info": {
   "codemirror_mode": {
    "name": "ipython",
    "version": 3
   },
   "file_extension": ".py",
   "mimetype": "text/x-python",
   "name": "python",
   "nbconvert_exporter": "python",
   "pygments_lexer": "ipython3",
   "version": "3.8.5"
  }
 },
 "nbformat": 4,
 "nbformat_minor": 4
}
