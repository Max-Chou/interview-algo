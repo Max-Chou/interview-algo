{
 "cells": [
  {
   "cell_type": "markdown",
   "metadata": {},
   "source": [
    "# Template\n",
    "\n",
    "define the skeleton of an algorithm. Similar to strategy pattern and factory pattern"
   ]
  },
  {
   "cell_type": "markdown",
   "metadata": {},
   "source": [
    "## Example 1"
   ]
  },
  {
   "cell_type": "code",
   "execution_count": 2,
   "metadata": {},
   "outputs": [],
   "source": [
    "class Work:\n",
    "    \n",
    "    def task1(self):\n",
    "        pass\n",
    "    \n",
    "    def task2(self):\n",
    "        pass\n",
    "    \n",
    "    def do(self):\n",
    "        self.task1()\n",
    "        self.task2()\n",
    "\n",
    "class SimpleWork(Work):\n",
    "    def task1(self):\n",
    "        pass\n",
    "    \n",
    "    def task2(self):\n",
    "        pass\n",
    "    \n",
    "    def do(self):\n",
    "        pass\n",
    "\n"
   ]
  },
  {
   "cell_type": "code",
   "execution_count": null,
   "metadata": {},
   "outputs": [],
   "source": []
  }
 ],
 "metadata": {
  "kernelspec": {
   "display_name": "Python 3",
   "language": "python",
   "name": "python3"
  },
  "language_info": {
   "codemirror_mode": {
    "name": "ipython",
    "version": 3
   },
   "file_extension": ".py",
   "mimetype": "text/x-python",
   "name": "python",
   "nbconvert_exporter": "python",
   "pygments_lexer": "ipython3",
   "version": "3.8.5"
  }
 },
 "nbformat": 4,
 "nbformat_minor": 4
}
