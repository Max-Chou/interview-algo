{
 "cells": [
  {
   "cell_type": "markdown",
   "metadata": {},
   "source": [
    "# Composite\n",
    "\n",
    "Treat individual objects and the composition of objects in a uniform manner."
   ]
  },
  {
   "cell_type": "markdown",
   "metadata": {},
   "source": [
    "## Example 1"
   ]
  },
  {
   "cell_type": "code",
   "execution_count": 1,
   "metadata": {},
   "outputs": [],
   "source": [
    "class Monster:\n",
    "    def __init__(self, name, health, attack, defence):\n",
    "        self.name = name\n",
    "        self.health = health\n",
    "        self.attack = attack\n",
    "        self.defence = defence\n",
    "    \n",
    "class GroupMonster:\n",
    "    def __init__(self, monster, number):\n",
    "        self.monsters = []\n",
    "        \n",
    "    @property\n",
    "    def health(self):\n",
    "        pass\n",
    "    \n",
    "    @property\n",
    "    def attack(self):\n",
    "        pass\n",
    "    \n",
    "    @property\n",
    "    def defence(self):\n",
    "        pass\n",
    "\n",
    "    "
   ]
  },
  {
   "cell_type": "markdown",
   "metadata": {},
   "source": [
    "## Example 2"
   ]
  },
  {
   "cell_type": "code",
   "execution_count": 16,
   "metadata": {},
   "outputs": [],
   "source": [
    "class Neuron:\n",
    "    def __init__(self, name):\n",
    "        self.name = name\n",
    "        self.inputs = []\n",
    "        self.outputs = []\n",
    "        \n",
    "    def __str__(self):\n",
    "        template = \"{} with {} inputs and {} outputs.\"\n",
    "        return template.format(self.name, len(self.inputs), len(self.outputs))\n",
    "    \n",
    "    def connect_to(self, other):\n",
    "        if self == other:\n",
    "            return \n",
    "        \n",
    "        for s in self:\n",
    "            for o in other:\n",
    "                s.outputs.append(o)\n",
    "                o.inputs.append(s)\n",
    "        \n",
    "    def __iter__(self):\n",
    "        yield self\n",
    "    \n",
    "class NeuronLayer(list):\n",
    "    def __init__(self, name, count):\n",
    "        super().__init__()\n",
    "        self.name = name\n",
    "        for x in range(0, count):\n",
    "            self.append(Neuron(f'{name}-{x}'))\n",
    "    \n",
    "    def __str__(self):\n",
    "        template = \"{} with {} neurons\"\n",
    "        return template.format(self.name, len(self))\n",
    "\n",
    "    def connect_to(self, other):\n",
    "        if self == other:\n",
    "            return \n",
    "        \n",
    "        for s in self:\n",
    "            for o in other:\n",
    "                s.outputs.append(o)\n",
    "                o.inputs.append(s)"
   ]
  },
  {
   "cell_type": "code",
   "execution_count": 17,
   "metadata": {},
   "outputs": [],
   "source": [
    "neuron1 = Neuron('n1')\n",
    "neuron2 = Neuron('n2')\n",
    "layer1 = NeuronLayer('L1', 3)\n",
    "layer2 = NeuronLayer('L2', 4)"
   ]
  },
  {
   "cell_type": "code",
   "execution_count": 18,
   "metadata": {},
   "outputs": [],
   "source": [
    "neuron1.connect_to(neuron2)"
   ]
  },
  {
   "cell_type": "code",
   "execution_count": 19,
   "metadata": {},
   "outputs": [],
   "source": [
    "neuron1.connect_to(layer1)"
   ]
  },
  {
   "cell_type": "code",
   "execution_count": 20,
   "metadata": {},
   "outputs": [
    {
     "name": "stdout",
     "output_type": "stream",
     "text": [
      "n1 with 0 inputs and 4 outputs.\n"
     ]
    }
   ],
   "source": [
    "print(str(neuron1))"
   ]
  },
  {
   "cell_type": "code",
   "execution_count": null,
   "metadata": {},
   "outputs": [],
   "source": []
  }
 ],
 "metadata": {
  "kernelspec": {
   "display_name": "Python 3",
   "language": "python",
   "name": "python3"
  },
  "language_info": {
   "codemirror_mode": {
    "name": "ipython",
    "version": 3
   },
   "file_extension": ".py",
   "mimetype": "text/x-python",
   "name": "python",
   "nbconvert_exporter": "python",
   "pygments_lexer": "ipython3",
   "version": "3.8.5"
  }
 },
 "nbformat": 4,
 "nbformat_minor": 4
}
